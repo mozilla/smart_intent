{
 "cells": [
  {
   "cell_type": "markdown",
   "id": "83df52ac-a343-49ec-83bc-16b8c91b9dd0",
   "metadata": {},
   "source": [
    "Purpose of this notebook is to use LORA (aka Low Rank Adaptation method) and finetune"
   ]
  },
  {
   "cell_type": "code",
   "execution_count": 1,
   "id": "86420020-5a69-4a3b-a6be-6ce274be8bcf",
   "metadata": {},
   "outputs": [],
   "source": [
    "# !python -m pip install -q datasets peft evaluate"
   ]
  },
  {
   "cell_type": "code",
   "execution_count": 2,
   "id": "54679b61-b9f8-4a5c-a846-0f11a1946d49",
   "metadata": {
    "tags": []
   },
   "outputs": [],
   "source": [
    "# !python -m pip uninstall -y pyarrow datasets ibis-framework"
   ]
  },
  {
   "cell_type": "code",
   "execution_count": 3,
   "id": "59bd4be8-9789-447d-880a-264763f117fc",
   "metadata": {
    "tags": []
   },
   "outputs": [],
   "source": [
    "# !python -m pip install pyarrow>=15.0.0 datasets peft evaluate"
   ]
  },
  {
   "cell_type": "code",
   "execution_count": 4,
   "id": "e05e4a8e-313a-48e5-9cb6-16ec108133bd",
   "metadata": {
    "tags": []
   },
   "outputs": [],
   "source": [
    "# !python -m pip show pyarrow datasets"
   ]
  },
  {
   "cell_type": "code",
   "execution_count": 5,
   "id": "28a5ba79-b2c6-4ab7-b0dd-940eeab27cca",
   "metadata": {
    "tags": []
   },
   "outputs": [],
   "source": [
    "# !python -m pip install pyarrow>=15.0.0 datasets peft evaluate"
   ]
  },
  {
   "cell_type": "code",
   "execution_count": 6,
   "id": "96c683dd-30bd-448a-ada9-bc4562b61663",
   "metadata": {
    "tags": []
   },
   "outputs": [
    {
     "name": "stderr",
     "output_type": "stream",
     "text": [
      "/home/jupyter/new_env/lib/python3.10/site-packages/tqdm/auto.py:21: TqdmWarning: IProgress not found. Please update jupyter and ipywidgets. See https://ipywidgets.readthedocs.io/en/stable/user_install.html\n",
      "  from .autonotebook import tqdm as notebook_tqdm\n"
     ]
    }
   ],
   "source": [
    "from datasets import load_dataset, DatasetDict, Dataset\n",
    "\n",
    "from transformers import (AutoTokenizer,\n",
    "                         AutoConfig,\n",
    "                         AutoModelForSequenceClassification,\n",
    "                         DataCollatorWithPadding,\n",
    "                         TrainingArguments,\n",
    "                         Trainer)\n",
    "\n",
    "from peft import PeftModel, PeftConfig, get_peft_model, LoraConfig\n",
    "import evaluate\n",
    "import torch\n",
    "import numpy as np\n",
    "import pandas as pd\n",
    "from sklearn.model_selection import train_test_split\n",
    "from tqdm import tqdm"
   ]
  },
  {
   "cell_type": "code",
   "execution_count": 7,
   "id": "9bdb5089-e82b-440e-acd5-a2e136755a6e",
   "metadata": {
    "tags": []
   },
   "outputs": [],
   "source": [
    "from torch.nn.functional import softmax"
   ]
  },
  {
   "cell_type": "code",
   "execution_count": 8,
   "id": "f32ae2ac-7f08-4fc4-baa7-10a7ccbcf800",
   "metadata": {
    "tags": []
   },
   "outputs": [
    {
     "name": "stdout",
     "output_type": "stream",
     "text": [
      "cuda\n"
     ]
    }
   ],
   "source": [
    "from torch import cuda\n",
    "device = 'cuda' if cuda.is_available() else 'mps'\n",
    "print(device)"
   ]
  },
  {
   "cell_type": "markdown",
   "id": "82e512cf-4776-4278-9612-ec5c8be44f80",
   "metadata": {},
   "source": [
    "#### Base Model (mobileBERT)"
   ]
  },
  {
   "cell_type": "code",
   "execution_count": 9,
   "id": "e1dc1475-55e2-42ca-a881-8f33e475f41c",
   "metadata": {
    "tags": []
   },
   "outputs": [
    {
     "name": "stderr",
     "output_type": "stream",
     "text": [
      "Some weights of MobileBertForSequenceClassification were not initialized from the model checkpoint at google/mobilebert-uncased and are newly initialized: ['classifier.bias', 'classifier.weight']\n",
      "You should probably TRAIN this model on a down-stream task to be able to use it for predictions and inference.\n"
     ]
    }
   ],
   "source": [
    "model_checkpoint = 'google/mobilebert-uncased'\n",
    "id2label = {0: 'information_intent',\n",
    "            1: 'yelp_intent',\n",
    "            2: 'navigation_intent',\n",
    "            3: 'travel_intent',\n",
    "            4: 'purchase_intent',\n",
    "            5: 'weather_intent',\n",
    "            6: 'translation_intent',\n",
    "            7: 'unknown'}\n",
    "label2id = {label:id for id,label in id2label.items()}\n",
    "\n",
    "\n",
    "# generate classification model from model chckpoints\n",
    "model = AutoModelForSequenceClassification.from_pretrained(\n",
    "    model_checkpoint,\n",
    "    num_labels=8,\n",
    "    id2label=id2label,\n",
    "    label2id=label2id\n",
    ")"
   ]
  },
  {
   "cell_type": "markdown",
   "id": "bbeaa99b-10c2-44ed-8d21-08ed2b3990bd",
   "metadata": {},
   "source": [
    "#### Load dataset"
   ]
  },
  {
   "cell_type": "code",
   "execution_count": 10,
   "id": "81eb7dac-565f-4247-b42d-fe2d7675ec60",
   "metadata": {
    "tags": []
   },
   "outputs": [
    {
     "name": "stdout",
     "output_type": "stream",
     "text": [
      "201426\n",
      "target\n",
      "information_intent    120879\n",
      "yelp_intent            33274\n",
      "navigation_intent      14332\n",
      "weather_intent         13749\n",
      "purchase_intent         7892\n",
      "travel_intent           6684\n",
      "unknown                 2322\n",
      "translation_intent      2294\n",
      "Name: count, dtype: int64\n"
     ]
    },
    {
     "data": {
      "text/html": [
       "<div>\n",
       "<style scoped>\n",
       "    .dataframe tbody tr th:only-of-type {\n",
       "        vertical-align: middle;\n",
       "    }\n",
       "\n",
       "    .dataframe tbody tr th {\n",
       "        vertical-align: top;\n",
       "    }\n",
       "\n",
       "    .dataframe thead th {\n",
       "        text-align: right;\n",
       "    }\n",
       "</style>\n",
       "<table border=\"1\" class=\"dataframe\">\n",
       "  <thead>\n",
       "    <tr style=\"text-align: right;\">\n",
       "      <th></th>\n",
       "      <th>sequence</th>\n",
       "      <th>target</th>\n",
       "    </tr>\n",
       "  </thead>\n",
       "  <tbody>\n",
       "    <tr>\n",
       "      <th>0</th>\n",
       "      <td>what is the benefits of six sigma process?</td>\n",
       "      <td>information_intent</td>\n",
       "    </tr>\n",
       "    <tr>\n",
       "      <th>1</th>\n",
       "      <td>cheap professional cleaning service</td>\n",
       "      <td>yelp_intent</td>\n",
       "    </tr>\n",
       "    <tr>\n",
       "      <th>2</th>\n",
       "      <td>house cleaners and apartment cleaning</td>\n",
       "      <td>yelp_intent</td>\n",
       "    </tr>\n",
       "    <tr>\n",
       "      <th>3</th>\n",
       "      <td>what define white as a race</td>\n",
       "      <td>information_intent</td>\n",
       "    </tr>\n",
       "    <tr>\n",
       "      <th>4</th>\n",
       "      <td>what is a nigp commodity code</td>\n",
       "      <td>information_intent</td>\n",
       "    </tr>\n",
       "    <tr>\n",
       "      <th>5</th>\n",
       "      <td>Mrui, Hawai</td>\n",
       "      <td>travel_intent</td>\n",
       "    </tr>\n",
       "    <tr>\n",
       "      <th>6</th>\n",
       "      <td>wood floor buckling repair</td>\n",
       "      <td>yelp_intent</td>\n",
       "    </tr>\n",
       "    <tr>\n",
       "      <th>7</th>\n",
       "      <td>venereal disease meaning</td>\n",
       "      <td>information_intent</td>\n",
       "    </tr>\n",
       "    <tr>\n",
       "      <th>8</th>\n",
       "      <td>what is a single-subject or single-system design</td>\n",
       "      <td>information_intent</td>\n",
       "    </tr>\n",
       "    <tr>\n",
       "      <th>9</th>\n",
       "      <td>how to cite quotes from a book</td>\n",
       "      <td>information_intent</td>\n",
       "    </tr>\n",
       "  </tbody>\n",
       "</table>\n",
       "</div>"
      ],
      "text/plain": [
       "                                           sequence              target\n",
       "0        what is the benefits of six sigma process?  information_intent\n",
       "1               cheap professional cleaning service         yelp_intent\n",
       "2             house cleaners and apartment cleaning         yelp_intent\n",
       "3                       what define white as a race  information_intent\n",
       "4                     what is a nigp commodity code  information_intent\n",
       "5                                       Mrui, Hawai       travel_intent\n",
       "6                        wood floor buckling repair         yelp_intent\n",
       "7                          venereal disease meaning  information_intent\n",
       "8  what is a single-subject or single-system design  information_intent\n",
       "9                    how to cite quotes from a book  information_intent"
      ]
     },
     "execution_count": 10,
     "metadata": {},
     "output_type": "execute_result"
    }
   ],
   "source": [
    "df = pd.read_csv(\"data/marco_train_v7.csv\")\n",
    "print(len(df))\n",
    "print(df['target'].value_counts())\n",
    "df.head(10)"
   ]
  },
  {
   "cell_type": "code",
   "execution_count": 11,
   "id": "bb24484d-7380-49b6-b67f-5b645e46cf49",
   "metadata": {
    "tags": []
   },
   "outputs": [
    {
     "name": "stdout",
     "output_type": "stream",
     "text": [
      "count    201426.000000\n",
      "mean         28.749134\n",
      "std          11.268303\n",
      "min           3.000000\n",
      "10%          16.000000\n",
      "20%          19.000000\n",
      "25%          21.000000\n",
      "30%          22.000000\n",
      "40%          25.000000\n",
      "50%          28.000000\n",
      "60%          31.000000\n",
      "70%          34.000000\n",
      "75%          35.000000\n",
      "80%          37.000000\n",
      "90%          43.000000\n",
      "95%          48.000000\n",
      "98%          54.000000\n",
      "99%          59.000000\n",
      "99.5%        65.000000\n",
      "99.8%        78.000000\n",
      "99.9%        91.575000\n",
      "max         193.000000\n",
      "Name: sequence, dtype: float64\n"
     ]
    },
    {
     "data": {
      "image/png": "[encoded data removed]",
      "text/plain": [
       "<Figure size 640x480 with 1 Axes>"
      ]
     },
     "metadata": {},
     "output_type": "display_data"
    }
   ],
   "source": [
    "print(df['sequence'].apply(len).describe(percentiles=[.1, .2, .25, .3, .4, .5, .6, .7, .75, .8, .9, .95, .98, .99, .995, .998, .999]))\n",
    "df['sequence'].apply(len).hist(bins=25);"
   ]
  },
  {
   "cell_type": "code",
   "execution_count": 12,
   "id": "082fb996-037b-4353-8739-7047d6142f69",
   "metadata": {
    "tags": []
   },
   "outputs": [
    {
     "data": {
      "text/html": [
       "<div>\n",
       "<style scoped>\n",
       "    .dataframe tbody tr th:only-of-type {\n",
       "        vertical-align: middle;\n",
       "    }\n",
       "\n",
       "    .dataframe tbody tr th {\n",
       "        vertical-align: top;\n",
       "    }\n",
       "\n",
       "    .dataframe thead th {\n",
       "        text-align: right;\n",
       "    }\n",
       "</style>\n",
       "<table border=\"1\" class=\"dataframe\">\n",
       "  <thead>\n",
       "    <tr style=\"text-align: right;\">\n",
       "      <th></th>\n",
       "      <th>sequence</th>\n",
       "      <th>target</th>\n",
       "    </tr>\n",
       "  </thead>\n",
       "  <tbody>\n",
       "    <tr>\n",
       "      <th>233</th>\n",
       "      <td>how many constitutional amendments have been ratified since its ratification ?</td>\n",
       "      <td>information_intent</td>\n",
       "    </tr>\n",
       "    <tr>\n",
       "      <th>253</th>\n",
       "      <td>which of the following protein classes are not found as membrane proteins?</td>\n",
       "      <td>information_intent</td>\n",
       "    </tr>\n",
       "    <tr>\n",
       "      <th>353</th>\n",
       "      <td>dilated ascending thoracic aorta and type b dissection definition</td>\n",
       "      <td>information_intent</td>\n",
       "    </tr>\n",
       "    <tr>\n",
       "      <th>363</th>\n",
       "      <td>which molecules show an appropriate number of bonds around each carbon atom?select the three tha...</td>\n",
       "      <td>information_intent</td>\n",
       "    </tr>\n",
       "    <tr>\n",
       "      <th>666</th>\n",
       "      <td>one difference between mitosis and meiosis is that cells entering meiosis</td>\n",
       "      <td>information_intent</td>\n",
       "    </tr>\n",
       "    <tr>\n",
       "      <th>...</th>\n",
       "      <td>...</td>\n",
       "      <td>...</td>\n",
       "    </tr>\n",
       "    <tr>\n",
       "      <th>200989</th>\n",
       "      <td>what kind of beauty is lord byron defining in she walks in beauty</td>\n",
       "      <td>information_intent</td>\n",
       "    </tr>\n",
       "    <tr>\n",
       "      <th>201133</th>\n",
       "      <td>which of the following is a fundamental consideration to examine when task organizing a force?</td>\n",
       "      <td>information_intent</td>\n",
       "    </tr>\n",
       "    <tr>\n",
       "      <th>201283</th>\n",
       "      <td>which css attribute would change an element's font color to blue?</td>\n",
       "      <td>information_intent</td>\n",
       "    </tr>\n",
       "    <tr>\n",
       "      <th>201393</th>\n",
       "      <td>american continental insurance company aetna, customer care phone number</td>\n",
       "      <td>navigation_intent</td>\n",
       "    </tr>\n",
       "    <tr>\n",
       "      <th>201410</th>\n",
       "      <td>Where to find the best fried chicken in San Francisco, California?</td>\n",
       "      <td>yelp_intent</td>\n",
       "    </tr>\n",
       "  </tbody>\n",
       "</table>\n",
       "<p>1074 rows × 2 columns</p>\n",
       "</div>"
      ],
      "text/plain": [
       "                                                                                                   sequence  \\\n",
       "233                          how many constitutional amendments have been ratified since its ratification ?   \n",
       "253                              which of the following protein classes are not found as membrane proteins?   \n",
       "353                                       dilated ascending thoracic aorta and type b dissection definition   \n",
       "363     which molecules show an appropriate number of bonds around each carbon atom?select the three tha...   \n",
       "666                               one difference between mitosis and meiosis is that cells entering meiosis   \n",
       "...                                                                                                     ...   \n",
       "200989                                    what kind of beauty is lord byron defining in she walks in beauty   \n",
       "201133       which of the following is a fundamental consideration to examine when task organizing a force?   \n",
       "201283                                    which css attribute would change an element's font color to blue?   \n",
       "201393                             american continental insurance company aetna, customer care phone number   \n",
       "201410                                   Where to find the best fried chicken in San Francisco, California?   \n",
       "\n",
       "                    target  \n",
       "233     information_intent  \n",
       "253     information_intent  \n",
       "353     information_intent  \n",
       "363     information_intent  \n",
       "666     information_intent  \n",
       "...                    ...  \n",
       "200989  information_intent  \n",
       "201133  information_intent  \n",
       "201283  information_intent  \n",
       "201393   navigation_intent  \n",
       "201410         yelp_intent  \n",
       "\n",
       "[1074 rows x 2 columns]"
      ]
     },
     "execution_count": 12,
     "metadata": {},
     "output_type": "execute_result"
    }
   ],
   "source": [
    "pd.set_option('display.max_colwidth', 100)\n",
    "df.loc[df['sequence'].apply(lambda text: len(text) > 64)]"
   ]
  },
  {
   "cell_type": "code",
   "execution_count": 13,
   "id": "b7e0d5f3-b927-477e-ac5b-5e05fce4835b",
   "metadata": {
    "tags": []
   },
   "outputs": [
    {
     "name": "stderr",
     "output_type": "stream",
     "text": [
      "/home/jupyter/new_env/lib/python3.10/site-packages/transformers/tokenization_utils_base.py:1601: FutureWarning: `clean_up_tokenization_spaces` was not set. It will be set to `True` by default. This behavior will be depracted in transformers v4.45, and will be then set to `False` by default. For more details check this issue: https://github.com/huggingface/transformers/issues/31884\n",
      "  warnings.warn(\n"
     ]
    },
    {
     "name": "stdout",
     "output_type": "stream",
     "text": [
      "                                          sequence  token_length\n",
      "0       what is the benefits of six sigma process?            11\n",
      "1              cheap professional cleaning service             6\n",
      "2            house cleaners and apartment cleaning             8\n",
      "3                      what define white as a race             8\n",
      "4                    what is a nigp commodity code             9\n",
      "...                                            ...           ...\n",
      "201421          cheapest taqueria el amigo waltham            12\n",
      "201422        how many micro bitcoins in a bitcoin            13\n",
      "201423                             define pigments             5\n",
      "201424             weather in crested butte in may             8\n",
      "201425      where is the iberian peninsula located             8\n",
      "\n",
      "[201426 rows x 2 columns]\n",
      "Max token length: 55\n",
      "Average token length: 8.108238261197661\n",
      "90th percentile token length: 11.0\n",
      "95th percentile token length: 13.0\n",
      "98th percentile token length: 14.0\n",
      "99th percentile token length: 15.0\n",
      "99.5th percentile token length: 16.0\n",
      "99.9th percentile token length: 21.0\n"
     ]
    }
   ],
   "source": [
    "# create tokenizer\n",
    "tokenizer = AutoTokenizer.from_pretrained(model_checkpoint, add_prefix_space=True)\n",
    "\n",
    "token_lengths = []\n",
    "for sequence in df['sequence'].values:\n",
    "    tokens = tokenizer(sequence, truncation=False)['input_ids']  # Get tokenized input IDs\n",
    "    token_lengths.append(len(tokens))\n",
    "\n",
    "# Create a DataFrame for analysis\n",
    "temp_df = pd.DataFrame({'sequence': df['sequence'].values, 'token_length': token_lengths})\n",
    "\n",
    "# Display token lengths\n",
    "print(temp_df)\n",
    "\n",
    "# Optional: Analyze token lengths for deciding the best max_length\n",
    "print(f\"Max token length: {temp_df['token_length'].max()}\")\n",
    "print(f\"Average token length: {temp_df['token_length'].mean()}\")\n",
    "print(f\"90th percentile token length: {temp_df['token_length'].quantile(0.9)}\")\n",
    "print(f\"95th percentile token length: {temp_df['token_length'].quantile(0.95)}\")\n",
    "print(f\"98th percentile token length: {temp_df['token_length'].quantile(0.98)}\")\n",
    "print(f\"99th percentile token length: {temp_df['token_length'].quantile(0.99)}\")\n",
    "print(f\"99.5th percentile token length: {temp_df['token_length'].quantile(0.995)}\")\n",
    "print(f\"99.9th percentile token length: {temp_df['token_length'].quantile(0.999)}\")\n",
    "\n",
    "del temp_df"
   ]
  },
  {
   "cell_type": "code",
   "execution_count": 14,
   "id": "13e6c934-fdc6-4d28-9c87-69eec74e5beb",
   "metadata": {
    "tags": []
   },
   "outputs": [
    {
     "name": "stdout",
     "output_type": "stream",
     "text": [
      "label\n",
      "0    120879\n",
      "1     33274\n",
      "2     14332\n",
      "5     13749\n",
      "4      7892\n",
      "3      6684\n",
      "7      2322\n",
      "6      2294\n",
      "Name: count, dtype: int64\n",
      "Size of sampled_df = 201426\n"
     ]
    },
    {
     "name": "stderr",
     "output_type": "stream",
     "text": [
      "/var/tmp/ipykernel_287165/1383443563.py:15: DeprecationWarning: DataFrameGroupBy.apply operated on the grouping columns. This behavior is deprecated, and in a future version of pandas the grouping columns will be excluded from the operation. Either pass `include_groups=False` to exclude the groupings or explicitly select the grouping columns after groupby to silence this warning.\n",
      "  sampled_df = df.groupby('target', group_keys=False).apply(\n"
     ]
    },
    {
     "data": {
      "text/html": [
       "<div>\n",
       "<style scoped>\n",
       "    .dataframe tbody tr th:only-of-type {\n",
       "        vertical-align: middle;\n",
       "    }\n",
       "\n",
       "    .dataframe tbody tr th {\n",
       "        vertical-align: top;\n",
       "    }\n",
       "\n",
       "    .dataframe thead th {\n",
       "        text-align: right;\n",
       "    }\n",
       "</style>\n",
       "<table border=\"1\" class=\"dataframe\">\n",
       "  <thead>\n",
       "    <tr style=\"text-align: right;\">\n",
       "      <th></th>\n",
       "      <th>sequence</th>\n",
       "      <th>target</th>\n",
       "      <th>label</th>\n",
       "    </tr>\n",
       "  </thead>\n",
       "  <tbody>\n",
       "    <tr>\n",
       "      <th>0</th>\n",
       "      <td>what does a degree in public health do</td>\n",
       "      <td>information_intent</td>\n",
       "      <td>0</td>\n",
       "    </tr>\n",
       "    <tr>\n",
       "      <th>1</th>\n",
       "      <td>where is hochatown oklahoma</td>\n",
       "      <td>information_intent</td>\n",
       "      <td>0</td>\n",
       "    </tr>\n",
       "    <tr>\n",
       "      <th>2</th>\n",
       "      <td>what is the formula for frequency</td>\n",
       "      <td>information_intent</td>\n",
       "      <td>0</td>\n",
       "    </tr>\n",
       "    <tr>\n",
       "      <th>3</th>\n",
       "      <td>nfl patriots schedule</td>\n",
       "      <td>information_intent</td>\n",
       "      <td>0</td>\n",
       "    </tr>\n",
       "    <tr>\n",
       "      <th>4</th>\n",
       "      <td>define tundra climate</td>\n",
       "      <td>information_intent</td>\n",
       "      <td>0</td>\n",
       "    </tr>\n",
       "  </tbody>\n",
       "</table>\n",
       "</div>"
      ],
      "text/plain": [
       "                                 sequence              target  label\n",
       "0  what does a degree in public health do  information_intent      0\n",
       "1             where is hochatown oklahoma  information_intent      0\n",
       "2       what is the formula for frequency  information_intent      0\n",
       "3                   nfl patriots schedule  information_intent      0\n",
       "4                   define tundra climate  information_intent      0"
      ]
     },
     "execution_count": 14,
     "metadata": {},
     "output_type": "execute_result"
    }
   ],
   "source": [
    "# Select only a sample from the actual data\n",
    "\n",
    "sampling_percentages = {\n",
    "    'information_intent': 1.0,   # 100% sampling for information_intent\n",
    "    'yelp_intent': 1.0,          # 100% sampling for yelp_intent\n",
    "    'weather_intent': 1.0,       # 100% sampling for weather_intent\n",
    "    'navigation_intent': 1.0,    # 100% sampling for navigation_intent\n",
    "    'purchase_intent': 1.0,      # 100% sampling for purchase_intent\n",
    "    'translation_intent': 1.0,   # 100% sampling for translation_intent\n",
    "    'travel_intent': 1.0,        # 100% sampling for travel_intent\n",
    "    'unknown': 1.0               # 100% sampling for unknown\n",
    "}\n",
    "\n",
    "# Sample from each target group based on the defined percentages\n",
    "sampled_df = df.groupby('target', group_keys=False).apply(\n",
    "    lambda x: x.sample(frac=sampling_percentages.get(x.name, 1.0))\n",
    ").reset_index(drop=True)\n",
    "\n",
    "sampled_df['label'] = sampled_df['target'].map(label2id)\n",
    "# sampled_df = sampled_df.rename(columns={'target': 'label'})\n",
    "\n",
    "print(sampled_df['label'].value_counts())\n",
    "print(f\"Size of sampled_df = {len(sampled_df)}\")\n",
    "sampled_df.head()"
   ]
  },
  {
   "cell_type": "code",
   "execution_count": 15,
   "id": "8dadb9a2-6184-4e50-bf21-8063e31edbb1",
   "metadata": {
    "tags": []
   },
   "outputs": [
    {
     "name": "stdout",
     "output_type": "stream",
     "text": [
      "DatasetDict({\n",
      "    train: Dataset({\n",
      "        features: ['sequence', 'target', 'label'],\n",
      "        num_rows: 191354\n",
      "    })\n",
      "    validation: Dataset({\n",
      "        features: ['sequence', 'target', 'label'],\n",
      "        num_rows: 10072\n",
      "    })\n",
      "})\n"
     ]
    }
   ],
   "source": [
    "# Step 1: Split the DataFrame into train and validation sets\n",
    "train_df, val_df = train_test_split(sampled_df, test_size=0.05, random_state=42, stratify=sampled_df['label'])\n",
    "\n",
    "# Step 2: Convert Pandas DataFrames to Hugging Face Datasets\n",
    "train_dataset = Dataset.from_pandas(train_df, preserve_index=False)\n",
    "val_dataset = Dataset.from_pandas(val_df, preserve_index=False)\n",
    "\n",
    "# Step 3: Create a DatasetDict\n",
    "dataset_dict = DatasetDict({\n",
    "    'train': train_dataset,\n",
    "    'validation': val_dataset\n",
    "})\n",
    "\n",
    "# Step 4: Verify the structure of DatasetDict\n",
    "print(dataset_dict)"
   ]
  },
  {
   "cell_type": "code",
   "execution_count": 16,
   "id": "0613b1e7-e4ec-4b18-91a2-2648c42a91b6",
   "metadata": {
    "tags": []
   },
   "outputs": [
    {
     "data": {
      "text/plain": [
       "label\n",
       "0    114835\n",
       "1     31610\n",
       "2     13615\n",
       "5     13062\n",
       "4      7497\n",
       "3      6350\n",
       "7      2206\n",
       "6      2179\n",
       "Name: count, dtype: int64"
      ]
     },
     "execution_count": 16,
     "metadata": {},
     "output_type": "execute_result"
    }
   ],
   "source": [
    "train_df['label'].value_counts()"
   ]
  },
  {
   "cell_type": "code",
   "execution_count": 17,
   "id": "68d476d6-4aa2-4180-889b-49f8e5251219",
   "metadata": {
    "tags": []
   },
   "outputs": [
    {
     "data": {
      "text/plain": [
       "label\n",
       "0    6044\n",
       "1    1664\n",
       "2     717\n",
       "5     687\n",
       "4     395\n",
       "3     334\n",
       "7     116\n",
       "6     115\n",
       "Name: count, dtype: int64"
      ]
     },
     "execution_count": 17,
     "metadata": {},
     "output_type": "execute_result"
    }
   ],
   "source": [
    "val_df['label'].value_counts()"
   ]
  },
  {
   "cell_type": "markdown",
   "id": "68ae60f7-3f28-4d95-bee7-28d05b68566f",
   "metadata": {},
   "source": [
    "#### Preprocess data"
   ]
  },
  {
   "cell_type": "code",
   "execution_count": 18,
   "id": "17cb2d99-4f2f-4caa-8f1f-747fbc9c9082",
   "metadata": {
    "tags": []
   },
   "outputs": [],
   "source": [
    "\n",
    "\n",
    "# add pad token if none exists\n",
    "if tokenizer.pad_token is None:\n",
    "    tokenizer.add_special_tokens({'pad_token': '[PAD]'})\n",
    "    model.resize_token_embeddings(len(tokenizer))\n",
    "\n",
    "# tokenize function\n",
    "def tokenize_function(examples):\n",
    "    # extract text\n",
    "    text = examples[\"sequence\"]\n",
    "\n",
    "    # tokenize and truncate text\n",
    "    tokenizer.truncation_side = \"right\"\n",
    "    tokenized_inputs = tokenizer(\n",
    "        text,\n",
    "        return_tensors=\"pt\",\n",
    "        truncation=True,\n",
    "        padding=True,  # Pad the sequences to the longest in the batch\n",
    "        max_length=64\n",
    "    )\n",
    "    return tokenized_inputs\n",
    "\n",
    "data_collator = DataCollatorWithPadding(tokenizer=tokenizer)"
   ]
  },
  {
   "cell_type": "code",
   "execution_count": 19,
   "id": "d52d8863-7705-40d2-a6b4-26b1865f5c1c",
   "metadata": {
    "tags": []
   },
   "outputs": [
    {
     "name": "stderr",
     "output_type": "stream",
     "text": [
      "Map: 100%|██████████| 191354/191354 [00:07<00:00, 24857.92 examples/s]\n",
      "Map: 100%|██████████| 10072/10072 [00:00<00:00, 26980.25 examples/s]\n"
     ]
    },
    {
     "data": {
      "text/plain": [
       "DatasetDict({\n",
       "    train: Dataset({\n",
       "        features: ['sequence', 'target', 'label', 'input_ids', 'token_type_ids', 'attention_mask'],\n",
       "        num_rows: 191354\n",
       "    })\n",
       "    validation: Dataset({\n",
       "        features: ['sequence', 'target', 'label', 'input_ids', 'token_type_ids', 'attention_mask'],\n",
       "        num_rows: 10072\n",
       "    })\n",
       "})"
      ]
     },
     "execution_count": 19,
     "metadata": {},
     "output_type": "execute_result"
    }
   ],
   "source": [
    "tokenized_dataset = dataset_dict.map(tokenize_function, batched=True)\n",
    "# tokenized_dataset = tokenized_dataset.map(fix_labels)\n",
    "tokenized_dataset"
   ]
  },
  {
   "cell_type": "markdown",
   "id": "56166c5b-958c-4921-961a-7e42c1ef37d7",
   "metadata": {},
   "source": [
    "#### Evaluation Metrics"
   ]
  },
  {
   "cell_type": "code",
   "execution_count": 20,
   "id": "d481d862-dfe6-4635-9d0c-7c827a2155f9",
   "metadata": {
    "tags": []
   },
   "outputs": [],
   "source": [
    "def compute_metrics(p):\n",
    "    logits, labels = p\n",
    "    predictions = np.argmax(logits, axis=1)\n",
    "    # Combine metrics\n",
    "    accuracy_metric = evaluate.load(\"accuracy\")\n",
    "    precision_metric = evaluate.load(\"precision\")\n",
    "    recall_metric = evaluate.load(\"recall\")\n",
    "    f1_metric = evaluate.load(\"f1\")\n",
    "\n",
    "    # Calculate metrics\n",
    "    accuracy = accuracy_metric.compute(predictions=predictions, references=labels)\n",
    "    precision = precision_metric.compute(predictions=predictions, references=labels, average=\"weighted\")\n",
    "    recall = recall_metric.compute(predictions=predictions, references=labels, average=\"weighted\")\n",
    "    f1 = f1_metric.compute(predictions=predictions, references=labels, average=\"weighted\")\n",
    "\n",
    "    return {\n",
    "        \"accuracy\": accuracy[\"accuracy\"],\n",
    "        \"precision\": precision[\"precision\"],\n",
    "        \"recall\": recall[\"recall\"],\n",
    "        \"f1\": f1[\"f1\"]\n",
    "    }"
   ]
  },
  {
   "cell_type": "code",
   "execution_count": 21,
   "id": "f08d8464-0714-4021-a266-9ceb64f36f0b",
   "metadata": {
    "tags": []
   },
   "outputs": [],
   "source": [
    "# ### Evaluate untrained model\n",
    "\n",
    "# text_list = [\n",
    "#     'floor repair cost',\n",
    "#     'denture fix',\n",
    "#     'who is the us president',\n",
    "#     'italian food',\n",
    "#     'sandwiches in seattle',\n",
    "#     'seattle weather',\n",
    "#     'weather seattle',\n",
    "#     'boston wether',\n",
    "#     'Boston wether',\n",
    "#     'weather boston',\n",
    "#     'weather Boston',\n",
    "#     'Weather Boston',\n",
    "#     'weathr boston',\n",
    "#     'seattle weathr',\n",
    "#     'apple macbook price',\n",
    "#     'sf sushi',\n",
    "#     'sf ramen',\n",
    "#     'seattle sushi',\n",
    "#     'seattle ramen',\n",
    "#     'sushi sf',\n",
    "#     'ramen sf',\n",
    "#     'chase bank login',\n",
    "#     'passport application',\n",
    "#     'walm',\n",
    "#     'footbal',\n",
    "#     'movers quote','its sushi', 'average house cleaning rates', 'fun things to do', 'foster gwin', 'go karts', 'facial', 'donuts',\n",
    "#     'via carota', 'tomi jazz', 'mun korean steakhouse', 'la pecora bianca', 'birria tacos', 'bank of america', 'bungee fitness',\n",
    "#     'allien', 'proposa', 'wather', 'big city', 'orlando bloom', 'banana', 'lenght',\n",
    "# ]\n",
    "\n",
    "# print(\"Untrained model predictions:\")\n",
    "# print(\"----------------------------\")\n",
    "# predictions = []\n",
    "# logits_list = []\n",
    "# for text in text_list:\n",
    "#     inputs = tokenizer.encode(text, return_tensors=\"pt\")\n",
    "#     logits = model(inputs).logits\n",
    "#     prediction = torch.argmax(logits, dim=1).item()\n",
    "#     predictions.append(prediction)\n",
    "#     print(text + \" -> \" + id2label[prediction])"
   ]
  },
  {
   "cell_type": "markdown",
   "id": "82bfb5ad-391d-42da-bcf5-d62e39642225",
   "metadata": {},
   "source": [
    "#### Model finetuning with LoRA"
   ]
  },
  {
   "cell_type": "code",
   "execution_count": 22,
   "id": "cece8cd8-b017-4f80-9d9a-713041270fc2",
   "metadata": {
    "tags": []
   },
   "outputs": [
    {
     "name": "stdout",
     "output_type": "stream",
     "text": [
      "trainable params: 200,712 || all params: 24,786,704 || trainable%: 0.8098\n"
     ]
    }
   ],
   "source": [
    "peft_config = LoraConfig(task_type=\"SEQ_CLS\",\n",
    "                         r=16, # intrinsic rank of trainable weight matrix\n",
    "                         lora_alpha=32, # similar to learning_rate\n",
    "                         lora_dropout=0.01, # probability of dropout nodes\n",
    "                         target_modules=['attention.self.query', 'attention.self.key']) # LoRA is applied to query & key layer\n",
    "\n",
    "\n",
    "model = get_peft_model(model, peft_config)\n",
    "model.print_trainable_parameters()"
   ]
  },
  {
   "cell_type": "code",
   "execution_count": 23,
   "id": "93c9ac1c-cd57-4173-b208-78831d9c4f99",
   "metadata": {},
   "outputs": [],
   "source": [
    "# for name, module in model.named_modules():\n",
    "#     print(name)"
   ]
  },
  {
   "cell_type": "markdown",
   "id": "66ccdcde-6b2c-499d-a185-d04dbd1b6ba7",
   "metadata": {},
   "source": [
    "#### Define hyper parameters and training arguments"
   ]
  },
  {
   "cell_type": "code",
   "execution_count": 24,
   "id": "84297802-ae8a-4fef-882a-7d7145de72bf",
   "metadata": {
    "tags": []
   },
   "outputs": [
    {
     "name": "stderr",
     "output_type": "stream",
     "text": [
      "huggingface/tokenizers: The current process just got forked, after parallelism has already been used. Disabling parallelism to avoid deadlocks...\n",
      "To disable this warning, you can either:\n",
      "\t- Avoid using `tokenizers` before the fork if possible\n",
      "\t- Explicitly set the environment variable TOKENIZERS_PARALLELISM=(true | false)\n",
      "huggingface/tokenizers: The current process just got forked, after parallelism has already been used. Disabling parallelism to avoid deadlocks...\n",
      "To disable this warning, you can either:\n",
      "\t- Avoid using `tokenizers` before the fork if possible\n",
      "\t- Explicitly set the environment variable TOKENIZERS_PARALLELISM=(true | false)\n"
     ]
    }
   ],
   "source": [
    "from transformers import EarlyStoppingCallback\n",
    "\n",
    "lr = 1e-4\n",
    "batch_size = 16\n",
    "num_epochs = 6\n",
    "\n",
    "# training args\n",
    "training_args = TrainingArguments(\n",
    "    # output_dir=model_checkpoint + \"-lora-intent-classification-v3\",\n",
    "    output_dir=\"mobilebert-uncased\" + \"-lora-intent-classification-v7\",\n",
    "    learning_rate=lr,\n",
    "    per_device_train_batch_size=batch_size,\n",
    "    per_device_eval_batch_size=batch_size,\n",
    "    num_train_epochs=num_epochs,\n",
    "    weight_decay=0.01,\n",
    "    eval_strategy=\"epoch\",\n",
    "    save_strategy=\"epoch\",\n",
    "    load_best_model_at_end=True,\n",
    "    # warmup_steps=1000,\n",
    ")"
   ]
  },
  {
   "cell_type": "code",
   "execution_count": 25,
   "id": "615cdb83-edc7-409a-a929-6c370c8aa9e1",
   "metadata": {
    "tags": []
   },
   "outputs": [],
   "source": [
    "trainer = Trainer(\n",
    "    model=model, \n",
    "    args=training_args, # Hyperparamaters\n",
    "    train_dataset=tokenized_dataset[\"train\"], # training data\n",
    "    eval_dataset=tokenized_dataset[\"validation\"], # validation data\n",
    "    tokenizer=tokenizer, # tokenizer\n",
    "    data_collator=data_collator, # dynamic sequence padding\n",
    "    compute_metrics=compute_metrics,  # model perfomance evaluation metric\n",
    "    callbacks=[EarlyStoppingCallback(early_stopping_patience=4)]\n",
    ")\n"
   ]
  },
  {
   "cell_type": "code",
   "execution_count": 26,
   "id": "f9fde457-1a0d-4552-b6fa-1c0642349972",
   "metadata": {
    "tags": []
   },
   "outputs": [
    {
     "data": {
      "text/html": [
       "\n",
       "    <div>\n",
       "      \n",
       "      <progress value='71760' max='71760' style='width:300px; height:20px; vertical-align: middle;'></progress>\n",
       "      [71760/71760 2:09:26, Epoch 6/6]\n",
       "    </div>\n",
       "    <table border=\"1\" class=\"dataframe\">\n",
       "  <thead>\n",
       " <tr style=\"text-align: left;\">\n",
       "      <th>Epoch</th>\n",
       "      <th>Training Loss</th>\n",
       "      <th>Validation Loss</th>\n",
       "      <th>Accuracy</th>\n",
       "      <th>Precision</th>\n",
       "      <th>Recall</th>\n",
       "      <th>F1</th>\n",
       "    </tr>\n",
       "  </thead>\n",
       "  <tbody>\n",
       "    <tr>\n",
       "      <td>1</td>\n",
       "      <td>33.990200</td>\n",
       "      <td>14.665943</td>\n",
       "      <td>0.916402</td>\n",
       "      <td>0.914308</td>\n",
       "      <td>0.916402</td>\n",
       "      <td>0.915002</td>\n",
       "    </tr>\n",
       "    <tr>\n",
       "      <td>2</td>\n",
       "      <td>79.863200</td>\n",
       "      <td>8.076523</td>\n",
       "      <td>0.936954</td>\n",
       "      <td>0.935874</td>\n",
       "      <td>0.936954</td>\n",
       "      <td>0.935775</td>\n",
       "    </tr>\n",
       "    <tr>\n",
       "      <td>3</td>\n",
       "      <td>79.019000</td>\n",
       "      <td>5.699135</td>\n",
       "      <td>0.946088</td>\n",
       "      <td>0.945333</td>\n",
       "      <td>0.946088</td>\n",
       "      <td>0.945508</td>\n",
       "    </tr>\n",
       "    <tr>\n",
       "      <td>4</td>\n",
       "      <td>27.499600</td>\n",
       "      <td>1.473685</td>\n",
       "      <td>0.942415</td>\n",
       "      <td>0.942223</td>\n",
       "      <td>0.942415</td>\n",
       "      <td>0.942057</td>\n",
       "    </tr>\n",
       "    <tr>\n",
       "      <td>5</td>\n",
       "      <td>13.533700</td>\n",
       "      <td>0.768880</td>\n",
       "      <td>0.948967</td>\n",
       "      <td>0.948049</td>\n",
       "      <td>0.948967</td>\n",
       "      <td>0.948176</td>\n",
       "    </tr>\n",
       "    <tr>\n",
       "      <td>6</td>\n",
       "      <td>2.958600</td>\n",
       "      <td>0.327371</td>\n",
       "      <td>0.950556</td>\n",
       "      <td>0.949603</td>\n",
       "      <td>0.950556</td>\n",
       "      <td>0.949863</td>\n",
       "    </tr>\n",
       "  </tbody>\n",
       "</table><p>"
      ],
      "text/plain": [
       "<IPython.core.display.HTML object>"
      ]
     },
     "metadata": {},
     "output_type": "display_data"
    },
    {
     "data": {
      "text/plain": [
       "TrainOutput(global_step=71760, training_loss=938.2985988178913, metrics={'train_runtime': 7766.6143, 'train_samples_per_second': 147.828, 'train_steps_per_second': 9.24, 'total_flos': 5739157493809920.0, 'train_loss': 938.2985988178913, 'epoch': 6.0})"
      ]
     },
     "execution_count": 26,
     "metadata": {},
     "output_type": "execute_result"
    }
   ],
   "source": [
    "trainer.train()"
   ]
  },
  {
   "cell_type": "code",
   "execution_count": 27,
   "id": "1da3c5f1-ef7f-4ca1-9792-4879b621f267",
   "metadata": {
    "tags": []
   },
   "outputs": [],
   "source": [
    "# trainer.model"
   ]
  },
  {
   "cell_type": "code",
   "execution_count": 29,
   "id": "92c14f7e-2087-4c02-a572-5af73b4c9e92",
   "metadata": {
    "tags": []
   },
   "outputs": [],
   "source": [
    "text_list = [\n",
    "    'floor repair cost',\n",
    "    'denture implant cost',\n",
    "    'who is the us president',\n",
    "    'italian food',\n",
    "    'sandwiches in seattle',\n",
    "    'seattle weather',\n",
    "    'weather seattle',\n",
    "    'boston wether',\n",
    "    'Boston wether',\n",
    "    'weather boston',\n",
    "    'weather Boston',\n",
    "    'Weather Boston',\n",
    "    'weathr boston',\n",
    "    'seattle weathr',\n",
    "    'apple macbook price',\n",
    "    'sf sushi',\n",
    "    'sf ramen',\n",
    "    'seattle sushi',\n",
    "    'seattle ramen',\n",
    "    'sushi sf',\n",
    "    'ramen sf',\n",
    "    'chase bank login',\n",
    "    'passport application',\n",
    "    'movers quote','its sushi', 'average house cleaning rates', 'fun things to do', 'foster gwin', 'go karts', 'facial', 'donuts',\n",
    "    'via carota', 'tomi jazz', 'mun korean steakhouse', 'la pecora bianca', 'birria tacos', 'bank of america', 'bungee fitness',\n",
    "    'best smartphone',\n",
    "    'sushi sf',\n",
    "    'ramen sf',\n",
    "    'sushi',\n",
    "    'ramen',\n",
    "    'footbal',\n",
    "    'breaking bad',\n",
    "    'walm',\n",
    "    'top gun maverick',\n",
    "    'clean pape',\n",
    "    'paws scor',\n",
    "    'cristiano ronaldo',\n",
    "    'fastfood',\n",
    "    'inte',\n",
    "    'potatos',\n",
    "    'visionare',\n",
    "    'allien',\n",
    "    'proposa',\n",
    "    'wather',\n",
    "    'big city',\n",
    "    'orlando bloom',\n",
    "    'banana',\n",
    "    'lenght',\n",
    "    'cafe ca',\n",
    "    'arcade',\n",
    "    'bagels',\n",
    "    'bank of america',\n",
    "    'bowling',\n",
    "    'cupcakes',\n",
    "    'electrician', 'electricians', 'best electrician', 'best electricians', 'popular electricians',\n",
    "    'karaoke',\n",
    "    'korean bbq',\n",
    "    'laser tag',\n",
    "    'pilates',\n",
    "    'sports bar',\n",
    "]"
   ]
  },
  {
   "cell_type": "code",
   "execution_count": 30,
   "id": "15d874c9-e652-4c17-8a54-11d94710debb",
   "metadata": {
    "tags": []
   },
   "outputs": [
    {
     "name": "stdout",
     "output_type": "stream",
     "text": [
      "floor repair cost -> yelp_intent:  0.9999886751174927\n",
      "denture implant cost -> yelp_intent:  0.9304097890853882\n",
      "who is the us president -> information_intent:  0.9999076128005981\n",
      "italian food -> yelp_intent:  0.9821021556854248\n",
      "sandwiches in seattle -> yelp_intent:  0.9847724437713623\n",
      "seattle weather -> weather_intent:  0.9998944997787476\n",
      "weather seattle -> weather_intent:  0.9999699592590332\n",
      "boston wether -> weather_intent:  0.8431703448295593\n",
      "Boston wether -> weather_intent:  0.8431703448295593\n",
      "weather boston -> weather_intent:  0.999985933303833\n",
      "weather Boston -> weather_intent:  0.999985933303833\n",
      "Weather Boston -> weather_intent:  0.999985933303833\n",
      "weathr boston -> weather_intent:  0.9999779462814331\n",
      "seattle weathr -> weather_intent:  0.9999904632568359\n",
      "apple macbook price -> purchase_intent:  0.9962782263755798\n",
      "sf sushi -> yelp_intent:  0.9695122838020325\n",
      "sf ramen -> yelp_intent:  0.9479253888130188\n",
      "seattle sushi -> yelp_intent:  0.9816707372665405\n",
      "seattle ramen -> yelp_intent:  0.901893138885498\n",
      "sushi sf -> yelp_intent:  0.9510340094566345\n",
      "ramen sf -> yelp_intent:  0.9724605679512024\n",
      "chase bank login -> navigation_intent:  0.996920108795166\n",
      "passport application -> navigation_intent:  0.9247398972511292\n",
      "movers quote -> yelp_intent:  0.7618657350540161\n",
      "its sushi -> yelp_intent:  0.9966803789138794\n",
      "average house cleaning rates -> yelp_intent:  0.9998249411582947\n",
      "fun things to do -> information_intent:  0.9989758729934692\n",
      "foster gwin -> travel_intent:  0.2423482984304428\n",
      "go karts -> information_intent:  0.9999998807907104\n",
      "facial -> information_intent:  0.9467757940292358\n",
      "donuts -> yelp_intent:  0.9420908689498901\n",
      "via carota -> yelp_intent:  0.7679468989372253\n",
      "tomi jazz -> yelp_intent:  0.5349456667900085\n",
      "mun korean steakhouse -> yelp_intent:  0.9998230338096619\n",
      "la pecora bianca -> yelp_intent:  0.9682960510253906\n",
      "birria tacos -> yelp_intent:  0.8375977873802185\n",
      "bank of america -> yelp_intent:  0.6579618453979492\n",
      "bungee fitness -> yelp_intent:  0.9539031386375427\n",
      "best smartphone -> purchase_intent:  0.9962849617004395\n",
      "sushi sf -> yelp_intent:  0.9510340094566345\n",
      "ramen sf -> yelp_intent:  0.9724605679512024\n",
      "sushi -> yelp_intent:  0.9385586380958557\n",
      "ramen -> yelp_intent:  0.9702029824256897\n",
      "footbal -> yelp_intent:  0.812846302986145\n",
      "breaking bad -> yelp_intent:  0.5361633896827698\n",
      "walm -> yelp_intent:  0.46926113963127136\n",
      "top gun maverick -> yelp_intent:  0.6874262690544128\n",
      "clean pape -> yelp_intent:  0.9994452595710754\n",
      "paws scor -> yelp_intent:  0.3809022307395935\n",
      "cristiano ronaldo -> information_intent:  0.9887937903404236\n",
      "fastfood -> purchase_intent:  0.7275564074516296\n",
      "inte -> unknown:  0.8206241726875305\n",
      "potatos -> purchase_intent:  0.5277106165885925\n",
      "visionare -> information_intent:  0.3556281626224518\n",
      "allien -> unknown:  0.40468621253967285\n",
      "proposa -> yelp_intent:  0.8796427845954895\n",
      "wather -> unknown:  0.3101065158843994\n",
      "big city -> information_intent:  0.5532987713813782\n",
      "orlando bloom -> information_intent:  0.820439338684082\n",
      "banana -> yelp_intent:  0.8666567206382751\n",
      "lenght -> travel_intent:  0.7071148157119751\n",
      "cafe ca -> yelp_intent:  0.9976315498352051\n",
      "arcade -> yelp_intent:  0.5822463035583496\n",
      "bagels -> yelp_intent:  0.9065232276916504\n",
      "bank of america -> yelp_intent:  0.6579618453979492\n",
      "bowling -> yelp_intent:  0.978693962097168\n",
      "cupcakes -> purchase_intent:  0.7694507837295532\n",
      "electrician -> information_intent:  0.7281216382980347\n",
      "electricians -> yelp_intent:  0.5461614727973938\n",
      "best electrician -> yelp_intent:  0.9320979118347168\n",
      "best electricians -> yelp_intent:  0.9594696760177612\n",
      "popular electricians -> yelp_intent:  0.5538366436958313\n",
      "karaoke -> yelp_intent:  0.49948883056640625\n",
      "korean bbq -> yelp_intent:  0.9923018217086792\n",
      "laser tag -> yelp_intent:  0.6817433834075928\n",
      "pilates -> yelp_intent:  0.721386730670929\n",
      "sports bar -> yelp_intent:  0.9708926677703857\n"
     ]
    }
   ],
   "source": [
    "trainer.model.eval()\n",
    "with torch.no_grad():\n",
    "    for text in text_list:\n",
    "        inputs = tokenizer.encode(text, return_tensors=\"pt\").to(device)\n",
    "        logits = trainer.model(inputs).logits\n",
    "        prediction = torch.argmax(logits, dim=1).item()\n",
    "        probabilities = softmax(logits, dim=1)\n",
    "        prediction_probability = probabilities[0, prediction].item()\n",
    "        print(text + \" -> \" + id2label[prediction] + \": \", prediction_probability)"
   ]
  },
  {
   "cell_type": "code",
   "execution_count": 31,
   "id": "66aae059-b207-43d5-8a78-a76901550c8a",
   "metadata": {
    "tags": []
   },
   "outputs": [
    {
     "name": "stdout",
     "output_type": "stream",
     "text": [
      "total 3.4M\n",
      "-rw-r--r-- 1 jupyter jupyter 5.0K Nov 29 20:54 README.md\n",
      "-rw-r--r-- 1 jupyter jupyter  706 Nov 29 20:54 adapter_config.json\n",
      "-rw-r--r-- 1 jupyter jupyter 798K Nov 29 20:54 adapter_model.safetensors\n",
      "-rw-r--r-- 1 jupyter jupyter 1.7M Nov 29 20:54 optimizer.pt\n",
      "-rw-r--r-- 1 jupyter jupyter  14K Nov 29 20:54 rng_state.pth\n",
      "-rw-r--r-- 1 jupyter jupyter 1.1K Nov 29 20:54 scheduler.pt\n",
      "-rw-r--r-- 1 jupyter jupyter  125 Nov 29 20:54 special_tokens_map.json\n",
      "-rw-r--r-- 1 jupyter jupyter 695K Nov 29 20:54 tokenizer.json\n",
      "-rw-r--r-- 1 jupyter jupyter 1.3K Nov 29 20:54 tokenizer_config.json\n",
      "-rw-r--r-- 1 jupyter jupyter  28K Nov 29 20:54 trainer_state.json\n",
      "-rw-r--r-- 1 jupyter jupyter 5.2K Nov 29 20:54 training_args.bin\n",
      "-rw-r--r-- 1 jupyter jupyter 227K Nov 29 20:54 vocab.txt\n"
     ]
    },
    {
     "name": "stderr",
     "output_type": "stream",
     "text": [
      "huggingface/tokenizers: The current process just got forked, after parallelism has already been used. Disabling parallelism to avoid deadlocks...\n",
      "To disable this warning, you can either:\n",
      "\t- Avoid using `tokenizers` before the fork if possible\n",
      "\t- Explicitly set the environment variable TOKENIZERS_PARALLELISM=(true | false)\n"
     ]
    }
   ],
   "source": [
    "!ls -lh mobilebert-uncased-lora-intent-classification-v7/checkpoint-71760"
   ]
  },
  {
   "cell_type": "markdown",
   "id": "0c08157f-ff0c-46a3-aa0d-f04493a71d36",
   "metadata": {},
   "source": [
    "#### Load the LoRA model from checkpoint after training"
   ]
  },
  {
   "cell_type": "code",
   "execution_count": 32,
   "id": "041cee58-787b-430c-a9c4-c4aadcf87a58",
   "metadata": {
    "tags": []
   },
   "outputs": [
    {
     "name": "stderr",
     "output_type": "stream",
     "text": [
      "Some weights of MobileBertForSequenceClassification were not initialized from the model checkpoint at google/mobilebert-uncased and are newly initialized: ['classifier.bias', 'classifier.weight']\n",
      "You should probably TRAIN this model on a down-stream task to be able to use it for predictions and inference.\n"
     ]
    },
    {
     "name": "stdout",
     "output_type": "stream",
     "text": [
      "tensor([[ -3.1562,   8.0883,  -4.3224, -10.1520,   1.9380,  -7.3656, -11.7488,\n",
      "          -5.7316]], grad_fn=<AddmmBackward0>)\n",
      "1 yelp_intent\n",
      "tensor([[0., 1., 0., 0., 0., 0., 0., 0.]], grad_fn=<RoundBackward0>)\n"
     ]
    }
   ],
   "source": [
    "id2label = {0: 'information_intent',\n",
    "            1: 'yelp_intent',\n",
    "            2: 'navigation_intent',\n",
    "            3: 'travel_intent',\n",
    "            4: 'purchase_intent',\n",
    "            5: 'weather_intent',\n",
    "            6: 'translation_intent',\n",
    "            7: 'unknown'}\n",
    "label2id = {label:id for id,label in id2label.items()}\n",
    "\n",
    "\n",
    "output_dir = \"mobilebert-uncased-lora-intent-classification-v7/checkpoint-71760\"\n",
    "\n",
    "# Load the tokenizer (from the output directory)\n",
    "tokenizer = AutoTokenizer.from_pretrained(output_dir, return_tensors=\"pt\", padding=\"max_length\", truncation=True, max_length=64)\n",
    "\n",
    "# Load the base model from the original checkpoint (base pre-trained model)\n",
    "base_model = AutoModelForSequenceClassification.from_pretrained('google/mobilebert-uncased', num_labels=8, id2label=id2label, label2id=label2id)\n",
    "\n",
    "# Load the LoRA configuration and model\n",
    "peft_config = PeftConfig.from_pretrained(output_dir)\n",
    "lora_model = PeftModel.from_pretrained(base_model, output_dir)\n",
    "\n",
    "# Step 3: Save the combined model to a directory\n",
    "save_directory = \"tmp/mobilebert_lora_combined_model/\"\n",
    "lora_model.save_pretrained(save_directory)  # Save base model + LoRA weights\n",
    "\n",
    "# Now the `lora_model` contains both the base model and the LoRA weights.\n",
    "lora_model.eval()\n",
    "\n",
    "# Example inference\n",
    "inputs = tokenizer([\"looking for home cleaning \"], return_tensors=\"pt\")\n",
    "outputs = lora_model(**inputs)\n",
    "logits = outputs.logits\n",
    "print(logits)\n",
    "\n",
    "\n",
    "prediction = torch.argmax(logits, dim=1).item()\n",
    "print(prediction, id2label[prediction])\n",
    "probabilities = torch.softmax(logits, dim=1)\n",
    "rounded_probabilities = torch.round(probabilities)\n",
    "print(rounded_probabilities)"
   ]
  },
  {
   "cell_type": "code",
   "execution_count": 33,
   "id": "d5f259a5-9032-4614-b0fc-b6c685ea250e",
   "metadata": {
    "tags": []
   },
   "outputs": [
    {
     "name": "stderr",
     "output_type": "stream",
     "text": [
      "Some weights of MobileBertForSequenceClassification were not initialized from the model checkpoint at google/mobilebert-uncased and are newly initialized: ['classifier.bias', 'classifier.weight']\n",
      "You should probably TRAIN this model on a down-stream task to be able to use it for predictions and inference.\n"
     ]
    },
    {
     "data": {
      "text/plain": [
       "('tmp/mobilebert_lora_combined_model/tokenizer_config.json',\n",
       " 'tmp/mobilebert_lora_combined_model/special_tokens_map.json',\n",
       " 'tmp/mobilebert_lora_combined_model/vocab.txt',\n",
       " 'tmp/mobilebert_lora_combined_model/added_tokens.json',\n",
       " 'tmp/mobilebert_lora_combined_model/tokenizer.json')"
      ]
     },
     "execution_count": 33,
     "metadata": {},
     "output_type": "execute_result"
    }
   ],
   "source": [
    "from transformers import AutoModelForSequenceClassification, AutoTokenizer\n",
    "from peft import PeftModel, PeftConfig\n",
    "\n",
    "# Step 1: Load the base model (DistilBERT)\n",
    "base_model = AutoModelForSequenceClassification.from_pretrained('google/mobilebert-uncased', num_labels=8, id2label=id2label, label2id=label2id)\n",
    "\n",
    "# Step 2: Load the LoRA adapter weights\n",
    "output_dir = \"mobilebert-uncased-lora-intent-classification-v7/checkpoint-71760\"\n",
    "peft_config = PeftConfig.from_pretrained(output_dir)\n",
    "lora_model = PeftModel.from_pretrained(base_model, output_dir)\n",
    "\n",
    "# Step 3: Merge LoRA weights into the base model\n",
    "# After this, the model will have both base and LoRA weights applied\n",
    "merged_model = lora_model.merge_and_unload()\n",
    "\n",
    "# Step 4: Save the full model (base model + LoRA weights)\n",
    "save_directory = \"tmp/mobilebert_lora_combined_model/\"\n",
    "merged_model.save_pretrained(save_directory)\n",
    "tokenizer = AutoTokenizer.from_pretrained(output_dir)  # Load the tokenizer\n",
    "tokenizer.save_pretrained(save_directory)  # Save the tokenizer\n"
   ]
  },
  {
   "cell_type": "code",
   "execution_count": 34,
   "id": "7eb33ea5-05c4-4417-8c86-05782471d680",
   "metadata": {
    "tags": []
   },
   "outputs": [],
   "source": [
    "# !huggingface-cli whoami"
   ]
  },
  {
   "cell_type": "code",
   "execution_count": 36,
   "id": "75982821-faaf-45ba-9936-26f1c275f78f",
   "metadata": {
    "tags": []
   },
   "outputs": [
    {
     "name": "stderr",
     "output_type": "stream",
     "text": [
      "model.safetensors: 100%|██████████| 98.5M/98.5M [00:02<00:00, 34.5MB/s]\n"
     ]
    },
    {
     "data": {
      "text/plain": [
       "CommitInfo(commit_url='https://huggingface.co/Mozilla/mobilebert-uncased-finetuned-LoRA-intent-classifier/commit/038a864771e9afe4c0c9d983f18fc0a9d812bc22', commit_message='Upload tokenizer', commit_description='', oid='038a864771e9afe4c0c9d983f18fc0a9d812bc22', pr_url=None, repo_url=RepoUrl('https://huggingface.co/Mozilla/mobilebert-uncased-finetuned-LoRA-intent-classifier', endpoint='https://huggingface.co', repo_type='model', repo_id='Mozilla/mobilebert-uncased-finetuned-LoRA-intent-classifier'), pr_revision=None, pr_num=None)"
      ]
     },
     "execution_count": 36,
     "metadata": {},
     "output_type": "execute_result"
    }
   ],
   "source": [
    "merged_model_dir = \"tmp/mobilebert_lora_combined_model\"\n",
    "merged_repo_id = \"Mozilla/mobilebert-uncased-finetuned-LoRA-intent-classifier\"  \n",
    "\n",
    "merged_model.push_to_hub(merged_repo_id)\n",
    "tokenizer.push_to_hub(merged_repo_id)"
   ]
  },
  {
   "cell_type": "code",
   "execution_count": 40,
   "id": "b1bcba70-77f1-493e-8c35-e135ec2f9893",
   "metadata": {
    "tags": []
   },
   "outputs": [],
   "source": []
  },
  {
   "cell_type": "code",
   "execution_count": null,
   "id": "428ce05e-44be-4fc1-b8bb-ada9f1415386",
   "metadata": {},
   "outputs": [],
   "source": []
  }
 ],
 "metadata": {
  "environment": {
   "kernel": "my_env",
   "name": ".m124",
   "type": "gcloud",
   "uri": "us-docker.pkg.dev/deeplearning-platform-release/gcr.io/:m124"
  },
  "kernelspec": {
   "display_name": "Python (my_env) (Local)",
   "language": "python",
   "name": "my_env"
  },
  "language_info": {
   "codemirror_mode": {
    "name": "ipython",
    "version": 3
   },
   "file_extension": ".py",
   "mimetype": "text/x-python",
   "name": "python",
   "nbconvert_exporter": "python",
   "pygments_lexer": "ipython3",
   "version": "3.10.14"
  }
 },
 "nbformat": 4,
 "nbformat_minor": 5
}
