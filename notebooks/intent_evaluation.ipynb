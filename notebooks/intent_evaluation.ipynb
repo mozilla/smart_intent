{
 "cells": [
  {
   "cell_type": "code",
   "execution_count": null,
   "id": "247555cc-db4a-44a4-909d-4c951896763e",
   "metadata": {},
   "outputs": [],
   "source": [
    "import sys\n",
    "import os\n",
    "\n",
    "# Add the project root directory to the Python path\n",
    "project_root = os.path.abspath(os.path.join(os.getcwd(), \"..\"))\n",
    "sys.path.append(project_root)\n",
    "\n",
    "# Now you can import the IntentClassifier from src/infer_intent.py\n",
    "from src.infer_intent import IntentClassifier\n",
    "from tqdm import tqdm\n",
    "import pandas as pd"
   ]
  },
  {
   "cell_type": "code",
   "execution_count": null,
   "id": "412924e2-5042-4f15-a4f1-f05fc7a06e8b",
   "metadata": {},
   "outputs": [],
   "source": [
    "with open('../data/internal/search_examples.txt', 'r', encoding='utf-8') as f:\n",
    "    yelp_texts = f.read().split('\\n')"
   ]
  },
  {
   "cell_type": "code",
   "execution_count": null,
   "id": "dc46d20e-6ed9-4606-b0c7-7f9128f7b70c",
   "metadata": {
    "scrolled": true
   },
   "outputs": [],
   "source": [
    "yelp_texts[:10]"
   ]
  },
  {
   "cell_type": "code",
   "execution_count": null,
   "id": "b4d515ee-9a95-4e08-85a0-4046cc417035",
   "metadata": {},
   "outputs": [],
   "source": [
    "!ls -ltrsh models/"
   ]
  },
  {
   "cell_type": "code",
   "execution_count": null,
   "id": "383dff8c-3382-4c69-8609-711ae6a2c0a1",
   "metadata": {},
   "outputs": [],
   "source": [
    "cls = IntentClassifier()"
   ]
  },
  {
   "cell_type": "markdown",
   "id": "aa3f52e3-80c9-477a-aa46-0beafa20b9ea",
   "metadata": {},
   "source": [
    "#### Yelp internal data evaluation"
   ]
  },
  {
   "cell_type": "code",
   "execution_count": null,
   "id": "2d921e12-2d87-405f-9bc0-c655d2e61ff0",
   "metadata": {},
   "outputs": [],
   "source": [
    "yelp_hit_count = 0\n",
    "yelp_queries_misclassified = []\n",
    "for query in tqdm(yelp_texts):\n",
    "    pred_result, _ = cls.find_intent(query)\n",
    "    if pred_result == 'yelp_intent':\n",
    "        yelp_hit_count += 1\n",
    "    else:\n",
    "        yelp_queries_misclassified.append({'query': query, 'pred_result': pred_result})\n",
    "print(f\"yelp hit rate (accuracy) = {yelp_hit_count/len(yelp_texts)}\")"
   ]
  },
  {
   "cell_type": "code",
   "execution_count": null,
   "id": "541325d3-a508-481b-b4aa-b798c04d8791",
   "metadata": {},
   "outputs": [],
   "source": [
    "## old\n",
    "# yelp hit rate (accuracy) = 0.3256021409455843\n",
    "\n",
    "## new (Mozilla/mobilebert-uncased-finetuned-LoRA-intent-classifier)\n",
    "# yelp hit rate (accuracy) = 0.6257805530776093"
   ]
  },
  {
   "cell_type": "code",
   "execution_count": null,
   "id": "c73f4c56-deea-41de-a32a-8f27de46bf5d",
   "metadata": {},
   "outputs": [],
   "source": [
    "yelp_queries_misclassified_df = pd.DataFrame(yelp_queries_misclassified)\n",
    "print(f\"Number of yelp queries misclassified = {len(yelp_queries_misclassified_df)} out of {len(yelp_texts)} examples\")\n",
    "yelp_queries_misclassified_df"
   ]
  },
  {
   "cell_type": "markdown",
   "id": "fb8eba2d-fcf2-471e-a7c0-9f815145c97a",
   "metadata": {},
   "source": [
    "#### Weather internal data evaluation"
   ]
  },
  {
   "cell_type": "code",
   "execution_count": null,
   "id": "04b547ef-854e-4127-8280-66198a1ba1d4",
   "metadata": {},
   "outputs": [],
   "source": [
    "with open('../data/internal/weather_search_examples.txt', 'r', encoding='utf-8') as f:\n",
    "    weather_texts = f.read().split('\\n')"
   ]
  },
  {
   "cell_type": "code",
   "execution_count": null,
   "id": "d8b64037-063c-428b-be5d-769f5e9bec13",
   "metadata": {},
   "outputs": [],
   "source": [
    "weather_hit_count = 0\n",
    "weather_queries_misclassified = []\n",
    "for query in tqdm(weather_texts):\n",
    "    pred_result, _ = cls.find_intent(query)\n",
    "    if pred_result == 'weather_intent':\n",
    "        weather_hit_count += 1\n",
    "    else:\n",
    "        weather_queries_misclassified.append({'query': query, 'pred_result': pred_result})\n",
    "print(f\"weather hit rate (accuracy) = {weather_hit_count/len(weather_texts)}\")"
   ]
  },
  {
   "cell_type": "code",
   "execution_count": null,
   "id": "4389844a-bd81-4bd2-a6b4-5deb76387ba8",
   "metadata": {},
   "outputs": [],
   "source": [
    "## old\n",
    "# weather hit rate (accuracy) = 0.3902439024390244\n",
    "\n",
    "## new (Mozilla/mobilebert-uncased-finetuned-LoRA-intent-classifier)\n",
    "# weather hit rate (accuracy) = 0.6097560975609756"
   ]
  },
  {
   "cell_type": "code",
   "execution_count": null,
   "id": "c8c6804a-a79d-4287-b32d-6420e72698df",
   "metadata": {},
   "outputs": [],
   "source": [
    "weather_queries_misclassified_df = pd.DataFrame(weather_queries_misclassified)\n",
    "print(f\"Number of weather queries misclassified = {len(weather_queries_misclassified)} out of {len(weather_texts)} examples\")\n",
    "weather_queries_misclassified_df"
   ]
  },
  {
   "cell_type": "code",
   "execution_count": null,
   "id": "a75ec862-6267-4ff7-88be-e59a521a6af2",
   "metadata": {},
   "outputs": [],
   "source": []
  }
 ],
 "metadata": {
  "kernelspec": {
   "display_name": "Python 3 (ipykernel)",
   "language": "python",
   "name": "python3"
  },
  "language_info": {
   "codemirror_mode": {
    "name": "ipython",
    "version": 3
   },
   "file_extension": ".py",
   "mimetype": "text/x-python",
   "name": "python",
   "nbconvert_exporter": "python",
   "pygments_lexer": "ipython3",
   "version": "3.11.0"
  }
 },
 "nbformat": 4,
 "nbformat_minor": 5
}
