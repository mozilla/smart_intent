{
 "cells": [
  {
   "cell_type": "code",
   "execution_count": 1,
   "id": "247555cc-db4a-44a4-909d-4c951896763e",
   "metadata": {},
   "outputs": [],
   "source": [
    "import sys\n",
    "import os\n",
    "import pandas as pd\n",
    "import json\n",
    "\n",
    "# Add the project root directory to the Python path\n",
    "project_root = os.path.abspath(os.path.join(os.getcwd(), \"..\"))\n",
    "sys.path.append(project_root)\n",
    "\n",
    "# Now you can import the IntentClassifier from src/infer_intent.py\n",
    "from src.infer_intent import IntentClassifier\n",
    "from tqdm import tqdm\n",
    "import pandas as pd"
   ]
  },
  {
   "cell_type": "code",
   "execution_count": 2,
   "id": "412924e2-5042-4f15-a4f1-f05fc7a06e8b",
   "metadata": {},
   "outputs": [],
   "source": [
    "# with open('../data/internal/search_examples.txt', 'r', encoding='utf-8') as f:\n",
    "#     yelp_texts = f.read().split('\\n')"
   ]
  },
  {
   "cell_type": "code",
   "execution_count": 3,
   "id": "dc46d20e-6ed9-4606-b0c7-7f9128f7b70c",
   "metadata": {
    "scrolled": true
   },
   "outputs": [],
   "source": [
    "# yelp_texts[:10]"
   ]
  },
  {
   "cell_type": "markdown",
   "id": "80c69759-97a4-4d3b-8fe7-013a1c042129",
   "metadata": {},
   "source": [
    "## Using yelp Keywords for validation"
   ]
  },
  {
   "cell_type": "code",
   "execution_count": 4,
   "id": "f1716546-a51b-4f73-adf1-6c94ea8eeef8",
   "metadata": {},
   "outputs": [],
   "source": [
    "tmp2 = pd.read_json(\"https://firefox-settings-attachments.cdn.mozilla.net/main-workspace/quicksuggest/33987d71-9e87-4b7e-86d3-6f292b89e8bf.json\")\n",
    "yelp_texts = tmp2['subjects'][0]"
   ]
  },
  {
   "cell_type": "code",
   "execution_count": 5,
   "id": "1e74e7cb-6795-45d4-8e64-13d289035d7f",
   "metadata": {},
   "outputs": [
    {
     "data": {
      "text/plain": [
       "2870"
      ]
     },
     "execution_count": 5,
     "metadata": {},
     "output_type": "execute_result"
    }
   ],
   "source": [
    "len(tmp2['subjects'][0])"
   ]
  },
  {
   "cell_type": "code",
   "execution_count": 6,
   "id": "b4d515ee-9a95-4e08-85a0-4046cc417035",
   "metadata": {},
   "outputs": [],
   "source": [
    "# !ls -ltrsh models/"
   ]
  },
  {
   "cell_type": "code",
   "execution_count": 7,
   "id": "383dff8c-3382-4c69-8609-711ae6a2c0a1",
   "metadata": {},
   "outputs": [],
   "source": [
    "cls = IntentClassifier()"
   ]
  },
  {
   "cell_type": "markdown",
   "id": "aa3f52e3-80c9-477a-aa46-0beafa20b9ea",
   "metadata": {},
   "source": [
    "#### Yelp internal data evaluation (python)"
   ]
  },
  {
   "cell_type": "code",
   "execution_count": 8,
   "id": "2d921e12-2d87-405f-9bc0-c655d2e61ff0",
   "metadata": {},
   "outputs": [
    {
     "name": "stderr",
     "output_type": "stream",
     "text": [
      "  1%|█▍                                                                                                                                                                                                                                                             | 16/2870 [00:00<00:42, 67.57it/s]/Users/cgopal/work/smart_intent/src/infer_intent.py:52: RuntimeWarning: overflow encountered in exp\n",
      "  probabilities = np.exp(logits) / np.sum(np.exp(logits), axis=1, keepdims=True)\n",
      "/Users/cgopal/work/smart_intent/src/infer_intent.py:52: RuntimeWarning: invalid value encountered in divide\n",
      "  probabilities = np.exp(logits) / np.sum(np.exp(logits), axis=1, keepdims=True)\n",
      "100%|█████████████████████████████████████████████████████████████████████████████████████████████████████████████████████████████████████████████████████████████████████████████████████████████████████████████████████████████████████████████████████████████| 2870/2870 [00:42<00:00, 67.36it/s]"
     ]
    },
    {
     "name": "stdout",
     "output_type": "stream",
     "text": [
      "yelp hit rate (accuracy) = 0.8742160278745644\n"
     ]
    },
    {
     "name": "stderr",
     "output_type": "stream",
     "text": [
      "\n"
     ]
    }
   ],
   "source": [
    "yelp_hit_count = 0\n",
    "yelp_queries_misclassified = []\n",
    "for query in tqdm(yelp_texts):\n",
    "    pred_result, _ = cls.find_intent(query)\n",
    "    if pred_result == 'yelp_intent':\n",
    "        yelp_hit_count += 1\n",
    "    else:\n",
    "        yelp_queries_misclassified.append({'query': query, 'pred_result': pred_result})\n",
    "print(f\"yelp hit rate (accuracy) = {yelp_hit_count/len(yelp_texts)}\")"
   ]
  },
  {
   "cell_type": "code",
   "execution_count": 9,
   "id": "541325d3-a508-481b-b4aa-b798c04d8791",
   "metadata": {},
   "outputs": [],
   "source": [
    "## old\n",
    "# yelp hit rate (accuracy) = 0.3256021409455843\n",
    "\n",
    "## new (Mozilla/mobilebert-uncased-finetuned-LoRA-intent-classifier)\n",
    "# yelp hit rate (accuracy) = 0.6703835860838537\n",
    "# yelp hit rate (accuracy) = 0.7832292595896521\n",
    "# yelp hit rate (accuracy) = 0.8862622658340767\n",
    "# yelp hit rate (accuracy) = 0.8742160278745644"
   ]
  },
  {
   "cell_type": "code",
   "execution_count": 10,
   "id": "c73f4c56-deea-41de-a32a-8f27de46bf5d",
   "metadata": {},
   "outputs": [
    {
     "name": "stdout",
     "output_type": "stream",
     "text": [
      "Number of yelp queries misclassified = 361 out of 2870 examples\n"
     ]
    },
    {
     "data": {
      "text/html": [
       "<div>\n",
       "<style scoped>\n",
       "    .dataframe tbody tr th:only-of-type {\n",
       "        vertical-align: middle;\n",
       "    }\n",
       "\n",
       "    .dataframe tbody tr th {\n",
       "        vertical-align: top;\n",
       "    }\n",
       "\n",
       "    .dataframe thead th {\n",
       "        text-align: right;\n",
       "    }\n",
       "</style>\n",
       "<table border=\"1\" class=\"dataframe\">\n",
       "  <thead>\n",
       "    <tr style=\"text-align: right;\">\n",
       "      <th></th>\n",
       "      <th>query</th>\n",
       "      <th>pred_result</th>\n",
       "    </tr>\n",
       "  </thead>\n",
       "  <tbody>\n",
       "    <tr>\n",
       "      <th>0</th>\n",
       "      <td>24 hour maid service</td>\n",
       "      <td>navigation_intent</td>\n",
       "    </tr>\n",
       "    <tr>\n",
       "      <th>1</th>\n",
       "      <td>aaliyah beauty and brows</td>\n",
       "      <td>information_intent</td>\n",
       "    </tr>\n",
       "    <tr>\n",
       "      <th>2</th>\n",
       "      <td>absolute bagels</td>\n",
       "      <td>information_intent</td>\n",
       "    </tr>\n",
       "    <tr>\n",
       "      <th>3</th>\n",
       "      <td>ahgassi gopchang</td>\n",
       "      <td>information_intent</td>\n",
       "    </tr>\n",
       "    <tr>\n",
       "      <th>4</th>\n",
       "      <td>aldi</td>\n",
       "      <td>information_intent</td>\n",
       "    </tr>\n",
       "    <tr>\n",
       "      <th>...</th>\n",
       "      <td>...</td>\n",
       "      <td>...</td>\n",
       "    </tr>\n",
       "    <tr>\n",
       "      <th>356</th>\n",
       "      <td>yangmani</td>\n",
       "      <td>information_intent</td>\n",
       "    </tr>\n",
       "    <tr>\n",
       "      <th>357</th>\n",
       "      <td>ye's apothecary</td>\n",
       "      <td>information_intent</td>\n",
       "    </tr>\n",
       "    <tr>\n",
       "      <th>358</th>\n",
       "      <td>yoga</td>\n",
       "      <td>information_intent</td>\n",
       "    </tr>\n",
       "    <tr>\n",
       "      <th>359</th>\n",
       "      <td>you move me</td>\n",
       "      <td>information_intent</td>\n",
       "    </tr>\n",
       "    <tr>\n",
       "      <th>360</th>\n",
       "      <td>yume wo katare</td>\n",
       "      <td>information_intent</td>\n",
       "    </tr>\n",
       "  </tbody>\n",
       "</table>\n",
       "<p>361 rows × 2 columns</p>\n",
       "</div>"
      ],
      "text/plain": [
       "                        query         pred_result\n",
       "0        24 hour maid service   navigation_intent\n",
       "1    aaliyah beauty and brows  information_intent\n",
       "2             absolute bagels  information_intent\n",
       "3            ahgassi gopchang  information_intent\n",
       "4                        aldi  information_intent\n",
       "..                        ...                 ...\n",
       "356                  yangmani  information_intent\n",
       "357           ye's apothecary  information_intent\n",
       "358                      yoga  information_intent\n",
       "359               you move me  information_intent\n",
       "360            yume wo katare  information_intent\n",
       "\n",
       "[361 rows x 2 columns]"
      ]
     },
     "execution_count": 10,
     "metadata": {},
     "output_type": "execute_result"
    }
   ],
   "source": [
    "yelp_queries_misclassified_df = pd.DataFrame(yelp_queries_misclassified)\n",
    "print(f\"Number of yelp queries misclassified = {len(yelp_queries_misclassified_df)} out of {len(yelp_texts)} examples\")\n",
    "yelp_queries_misclassified_df"
   ]
  },
  {
   "cell_type": "markdown",
   "id": "e7ac91e1-7e9e-45e1-bfb5-4b0ff18eed31",
   "metadata": {},
   "source": [
    "#### Load the Fx ML inference output (using Fx js)"
   ]
  },
  {
   "cell_type": "code",
   "execution_count": 11,
   "id": "35fbb3af-bf21-455c-b226-0a8ab2e50732",
   "metadata": {},
   "outputs": [
    {
     "name": "stdout",
     "output_type": "stream",
     "text": [
      "Fx ML yelp intent hit rate = 0.8735191637630662\n"
     ]
    }
   ],
   "source": [
    "fx_ml_intent = pd.read_json(\"../data/ML_output_YELP_KEYWORDS_DATA.json\")\n",
    "fx_ml_hit_rate_for_yelp_intent = float(fx_ml_intent['intent'].value_counts(normalize=True)['yelp_intent'])\n",
    "print(f\"Fx ML yelp intent hit rate = {fx_ml_hit_rate_for_yelp_intent}\")"
   ]
  },
  {
   "cell_type": "markdown",
   "id": "dc678c1f-9e9f-4050-a164-5e533fde6e50",
   "metadata": {},
   "source": [
    "## Using Yelp additional validation dataset"
   ]
  },
  {
   "cell_type": "code",
   "execution_count": 12,
   "id": "da4d187b-7989-402d-90ef-1cd3680ccd15",
   "metadata": {},
   "outputs": [],
   "source": [
    "tqdm.pandas()"
   ]
  },
  {
   "cell_type": "code",
   "execution_count": 13,
   "id": "e1b1f45d-5664-4b6b-9cd7-ecf3f70a0481",
   "metadata": {},
   "outputs": [
    {
     "name": "stderr",
     "output_type": "stream",
     "text": [
      " 17%|███████████████████████████████████████████                                                                                                                                                                                                                   | 339/2000 [00:05<00:24, 67.14it/s]/Users/cgopal/work/smart_intent/src/infer_intent.py:52: RuntimeWarning: overflow encountered in exp\n",
      "  probabilities = np.exp(logits) / np.sum(np.exp(logits), axis=1, keepdims=True)\n",
      "/Users/cgopal/work/smart_intent/src/infer_intent.py:52: RuntimeWarning: invalid value encountered in divide\n",
      "  probabilities = np.exp(logits) / np.sum(np.exp(logits), axis=1, keepdims=True)\n",
      "100%|█████████████████████████████████████████████████████████████████████████████████████████████████████████████████████████████████████████████████████████████████████████████████████████████████████████████████████████████████████████████████████████████| 2000/2000 [00:30<00:00, 64.68it/s]"
     ]
    },
    {
     "name": "stdout",
     "output_type": "stream",
     "text": [
      "yelp generated val data hit rate (accuracy) = 0.982\n"
     ]
    },
    {
     "name": "stderr",
     "output_type": "stream",
     "text": [
      "\n"
     ]
    }
   ],
   "source": [
    "yelp_val_generated_data = pd.read_csv(\"../data/yelp_val_generated_data.csv\")\n",
    "yelp_val_generated_data['pred_result'] = yelp_val_generated_data['queries'].progress_apply(lambda query: cls.find_intent(query)[0])\n",
    "hit_rate = float(yelp_val_generated_data['pred_result'].value_counts(normalize=True)['yelp_intent'])\n",
    "print(f\"yelp generated val data hit rate (accuracy) = {hit_rate}\")"
   ]
  },
  {
   "cell_type": "code",
   "execution_count": 14,
   "id": "d704924f-e350-4034-808e-7083b35f972f",
   "metadata": {},
   "outputs": [],
   "source": [
    "# yelp generated val data hit rate (accuracy) = 0.982"
   ]
  },
  {
   "cell_type": "code",
   "execution_count": 15,
   "id": "3b03051e-90d2-46ef-bba2-840f3d999dee",
   "metadata": {},
   "outputs": [],
   "source": [
    "queries_array = yelp_val_generated_data['queries'].values\n",
    "\n",
    "# Create a dictionary structure\n",
    "data = {\n",
    "    \"queries\": queries_array.tolist()  \n",
    "}\n",
    "\n",
    "# Define the output JSON file path\n",
    "output_file_path = \"../data/yelp_val_generated_data.json\"\n",
    "\n",
    "## Uncomment to write it else its almost static dataset\n",
    "# # Write to a JSON file\n",
    "# with open(output_file_path, \"w\") as json_file:\n",
    "#     json.dump(data, json_file, indent=2)\n"
   ]
  },
  {
   "cell_type": "code",
   "execution_count": 16,
   "id": "f18639e1-1fa8-44a0-9eb3-b63ce6007f2f",
   "metadata": {},
   "outputs": [
    {
     "name": "stdout",
     "output_type": "stream",
     "text": [
      "Fx ML yelp intent2 hit rate = 0.9835\n"
     ]
    }
   ],
   "source": [
    "## yelp validation from Fx MLSuggest\n",
    "\n",
    "fx_ml_intent_val = pd.read_json(\"../data/ML_output_YELP_VAL_DATA.json\")\n",
    "fx_ml_hit_rate_for_yelp_intent_2 = float(fx_ml_intent_val['intent'].value_counts(normalize=True)['yelp_intent'])\n",
    "print(f\"Fx ML yelp intent2 hit rate = {fx_ml_hit_rate_for_yelp_intent_2}\")"
   ]
  },
  {
   "cell_type": "code",
   "execution_count": null,
   "id": "f158b9d4-e5b7-4383-ae9d-eaeb490bf821",
   "metadata": {},
   "outputs": [],
   "source": []
  },
  {
   "cell_type": "markdown",
   "id": "fb8eba2d-fcf2-471e-a7c0-9f815145c97a",
   "metadata": {},
   "source": [
    "#### Weather internal data evaluation"
   ]
  },
  {
   "cell_type": "code",
   "execution_count": 17,
   "id": "04b547ef-854e-4127-8280-66198a1ba1d4",
   "metadata": {},
   "outputs": [],
   "source": [
    "with open('../data/internal/weather_search_examples.txt', 'r', encoding='utf-8') as f:\n",
    "    weather_texts = f.read().split('\\n')"
   ]
  },
  {
   "cell_type": "code",
   "execution_count": 18,
   "id": "d8b64037-063c-428b-be5d-769f5e9bec13",
   "metadata": {
    "scrolled": true
   },
   "outputs": [
    {
     "name": "stderr",
     "output_type": "stream",
     "text": [
      " 17%|████████████████████████████████████████████                                                                                                                                                                                                                      | 7/41 [00:00<00:00, 69.24it/s]/Users/cgopal/work/smart_intent/src/infer_intent.py:52: RuntimeWarning: overflow encountered in exp\n",
      "  probabilities = np.exp(logits) / np.sum(np.exp(logits), axis=1, keepdims=True)\n",
      "/Users/cgopal/work/smart_intent/src/infer_intent.py:52: RuntimeWarning: invalid value encountered in divide\n",
      "  probabilities = np.exp(logits) / np.sum(np.exp(logits), axis=1, keepdims=True)\n",
      "100%|█████████████████████████████████████████████████████████████████████████████████████████████████████████████████████████████████████████████████████████████████████████████████████████████████████████████████████████████████████████████████████████████████| 41/41 [00:00<00:00, 65.44it/s]"
     ]
    },
    {
     "name": "stdout",
     "output_type": "stream",
     "text": [
      "weather hit rate (accuracy) = 0.6585365853658537\n"
     ]
    },
    {
     "name": "stderr",
     "output_type": "stream",
     "text": [
      "\n"
     ]
    }
   ],
   "source": [
    "weather_hit_count = 0\n",
    "weather_queries_misclassified = []\n",
    "for query in tqdm(weather_texts):\n",
    "    pred_result, _ = cls.find_intent(query)\n",
    "    if pred_result == 'weather_intent':\n",
    "        weather_hit_count += 1\n",
    "    else:\n",
    "        weather_queries_misclassified.append({'query': query, 'pred_result': pred_result})\n",
    "print(f\"weather hit rate (accuracy) = {weather_hit_count/len(weather_texts)}\")"
   ]
  },
  {
   "cell_type": "code",
   "execution_count": 19,
   "id": "4389844a-bd81-4bd2-a6b4-5deb76387ba8",
   "metadata": {},
   "outputs": [],
   "source": [
    "## old\n",
    "# weather hit rate (accuracy) = 0.3902439024390244\n",
    "\n",
    "## new (Mozilla/mobilebert-uncased-finetuned-LoRA-intent-classifier)\n",
    "# weather hit rate (accuracy) = 0.4878048780487805\n",
    "# weather hit rate (accuracy) = 0.6341463414634146\n",
    "# weather hit rate (accuracy) = 0.6585365853658537"
   ]
  },
  {
   "cell_type": "code",
   "execution_count": 20,
   "id": "c8c6804a-a79d-4287-b32d-6420e72698df",
   "metadata": {},
   "outputs": [
    {
     "name": "stdout",
     "output_type": "stream",
     "text": [
      "Number of weather queries misclassified = 14 out of 41 examples\n"
     ]
    },
    {
     "data": {
      "text/html": [
       "<div>\n",
       "<style scoped>\n",
       "    .dataframe tbody tr th:only-of-type {\n",
       "        vertical-align: middle;\n",
       "    }\n",
       "\n",
       "    .dataframe tbody tr th {\n",
       "        vertical-align: top;\n",
       "    }\n",
       "\n",
       "    .dataframe thead th {\n",
       "        text-align: right;\n",
       "    }\n",
       "</style>\n",
       "<table border=\"1\" class=\"dataframe\">\n",
       "  <thead>\n",
       "    <tr style=\"text-align: right;\">\n",
       "      <th></th>\n",
       "      <th>query</th>\n",
       "      <th>pred_result</th>\n",
       "    </tr>\n",
       "  </thead>\n",
       "  <tbody>\n",
       "    <tr>\n",
       "      <th>0</th>\n",
       "      <td>forecast</td>\n",
       "      <td>information_intent</td>\n",
       "    </tr>\n",
       "    <tr>\n",
       "      <th>1</th>\n",
       "      <td>flooding</td>\n",
       "      <td>yelp_intent</td>\n",
       "    </tr>\n",
       "    <tr>\n",
       "      <th>2</th>\n",
       "      <td>forcast</td>\n",
       "      <td>information_intent</td>\n",
       "    </tr>\n",
       "    <tr>\n",
       "      <th>3</th>\n",
       "      <td>wather</td>\n",
       "      <td>yelp_intent</td>\n",
       "    </tr>\n",
       "    <tr>\n",
       "      <th>4</th>\n",
       "      <td>vindy</td>\n",
       "      <td>yelp_intent</td>\n",
       "    </tr>\n",
       "    <tr>\n",
       "      <th>5</th>\n",
       "      <td>cloudy</td>\n",
       "      <td>information_intent</td>\n",
       "    </tr>\n",
       "    <tr>\n",
       "      <th>6</th>\n",
       "      <td>air quality</td>\n",
       "      <td>yelp_intent</td>\n",
       "    </tr>\n",
       "    <tr>\n",
       "      <th>7</th>\n",
       "      <td>pollen</td>\n",
       "      <td>information_intent</td>\n",
       "    </tr>\n",
       "    <tr>\n",
       "      <th>8</th>\n",
       "      <td>tiempo</td>\n",
       "      <td>information_intent</td>\n",
       "    </tr>\n",
       "    <tr>\n",
       "      <th>9</th>\n",
       "      <td>clima</td>\n",
       "      <td>information_intent</td>\n",
       "    </tr>\n",
       "    <tr>\n",
       "      <th>10</th>\n",
       "      <td>forecast</td>\n",
       "      <td>information_intent</td>\n",
       "    </tr>\n",
       "    <tr>\n",
       "      <th>11</th>\n",
       "      <td>local radar</td>\n",
       "      <td>yelp_intent</td>\n",
       "    </tr>\n",
       "    <tr>\n",
       "      <th>12</th>\n",
       "      <td>map</td>\n",
       "      <td>information_intent</td>\n",
       "    </tr>\n",
       "    <tr>\n",
       "      <th>13</th>\n",
       "      <td>radar near me</td>\n",
       "      <td>yelp_intent</td>\n",
       "    </tr>\n",
       "  </tbody>\n",
       "</table>\n",
       "</div>"
      ],
      "text/plain": [
       "            query         pred_result\n",
       "0        forecast  information_intent\n",
       "1        flooding         yelp_intent\n",
       "2         forcast  information_intent\n",
       "3          wather         yelp_intent\n",
       "4           vindy         yelp_intent\n",
       "5          cloudy  information_intent\n",
       "6     air quality         yelp_intent\n",
       "7          pollen  information_intent\n",
       "8          tiempo  information_intent\n",
       "9           clima  information_intent\n",
       "10       forecast  information_intent\n",
       "11    local radar         yelp_intent\n",
       "12            map  information_intent\n",
       "13  radar near me         yelp_intent"
      ]
     },
     "execution_count": 20,
     "metadata": {},
     "output_type": "execute_result"
    }
   ],
   "source": [
    "weather_queries_misclassified_df = pd.DataFrame(weather_queries_misclassified)\n",
    "print(f\"Number of weather queries misclassified = {len(weather_queries_misclassified)} out of {len(weather_texts)} examples\")\n",
    "weather_queries_misclassified_df"
   ]
  },
  {
   "cell_type": "markdown",
   "id": "4a33983b-370d-44e6-809b-658a34b2c09c",
   "metadata": {},
   "source": [
    "#### Weather validate the generated data with pre and post modifiers"
   ]
  },
  {
   "cell_type": "code",
   "execution_count": 21,
   "id": "fe4ce915-b9f5-4c8a-aacb-bfe82cbbd8ec",
   "metadata": {},
   "outputs": [
    {
     "name": "stderr",
     "output_type": "stream",
     "text": [
      "  0%|                                                                                                                                                                                                                                                                        | 0/2000 [00:00<?, ?it/s]/Users/cgopal/work/smart_intent/src/infer_intent.py:52: RuntimeWarning: overflow encountered in exp\n",
      "  probabilities = np.exp(logits) / np.sum(np.exp(logits), axis=1, keepdims=True)\n",
      "/Users/cgopal/work/smart_intent/src/infer_intent.py:52: RuntimeWarning: invalid value encountered in divide\n",
      "  probabilities = np.exp(logits) / np.sum(np.exp(logits), axis=1, keepdims=True)\n",
      "100%|█████████████████████████████████████████████████████████████████████████████████████████████████████████████████████████████████████████████████████████████████████████████████████████████████████████████████████████████████████████████████████████████| 2000/2000 [00:30<00:00, 66.14it/s]"
     ]
    },
    {
     "name": "stdout",
     "output_type": "stream",
     "text": [
      "weather generated val data hit rate (accuracy) = 0.643\n"
     ]
    },
    {
     "name": "stderr",
     "output_type": "stream",
     "text": [
      "\n"
     ]
    }
   ],
   "source": [
    "weather_val_generated_data = pd.read_csv(\"../data/weather_val_generated_data.csv\")\n",
    "weather_val_generated_data['pred_result'] = weather_val_generated_data['queries'].progress_apply(lambda query: cls.find_intent(query)[0])\n",
    "hit_rate = float(weather_val_generated_data['pred_result'].value_counts(normalize=True)['weather_intent'])\n",
    "print(f\"weather generated val data hit rate (accuracy) = {hit_rate}\")"
   ]
  },
  {
   "cell_type": "code",
   "execution_count": 22,
   "id": "ca8e932c-7488-45f0-b123-7fac2c01204d",
   "metadata": {},
   "outputs": [],
   "source": [
    "# weather generated val data hit rate (accuracy) = 0.643"
   ]
  },
  {
   "cell_type": "markdown",
   "id": "32b0aa13-0558-4515-bd21-35dcdd9f4bc3",
   "metadata": {},
   "source": [
    "#### Orcas golden dataset for intent validation"
   ]
  },
  {
   "cell_type": "code",
   "execution_count": 23,
   "id": "471b09c8-fa99-4d39-b442-5e69f91ec4d3",
   "metadata": {},
   "outputs": [
    {
     "name": "stdout",
     "output_type": "stream",
     "text": [
      "1000\n"
     ]
    }
   ],
   "source": [
    "orcas_data = pd.read_csv(\"../data/ORCAS_golden_dataset.tsv\", sep='\\t')\n",
    "print(len(orcas_data))"
   ]
  },
  {
   "cell_type": "code",
   "execution_count": 24,
   "id": "632b43a2-d39f-4f3a-af32-f7645084e671",
   "metadata": {},
   "outputs": [
    {
     "data": {
      "text/html": [
       "<div>\n",
       "<style scoped>\n",
       "    .dataframe tbody tr th:only-of-type {\n",
       "        vertical-align: middle;\n",
       "    }\n",
       "\n",
       "    .dataframe tbody tr th {\n",
       "        vertical-align: top;\n",
       "    }\n",
       "\n",
       "    .dataframe thead th {\n",
       "        text-align: right;\n",
       "    }\n",
       "</style>\n",
       "<table border=\"1\" class=\"dataframe\">\n",
       "  <thead>\n",
       "    <tr style=\"text-align: right;\">\n",
       "      <th></th>\n",
       "      <th>query</th>\n",
       "      <th>url</th>\n",
       "      <th>label_manual</th>\n",
       "      <th>target</th>\n",
       "    </tr>\n",
       "  </thead>\n",
       "  <tbody>\n",
       "    <tr>\n",
       "      <th>0</th>\n",
       "      <td>best reads</td>\n",
       "      <td>http://thegreatestbooks.org/</td>\n",
       "      <td>Abstain</td>\n",
       "      <td>information_intent</td>\n",
       "    </tr>\n",
       "    <tr>\n",
       "      <th>1</th>\n",
       "      <td>tamerind</td>\n",
       "      <td>https://en.wikipedia.org/wiki/Tamarind</td>\n",
       "      <td>Factual</td>\n",
       "      <td>information_intent</td>\n",
       "    </tr>\n",
       "    <tr>\n",
       "      <th>2</th>\n",
       "      <td>show mi ip</td>\n",
       "      <td>http://showip.net/</td>\n",
       "      <td>Instrumental</td>\n",
       "      <td>navigation_intent</td>\n",
       "    </tr>\n",
       "    <tr>\n",
       "      <th>3</th>\n",
       "      <td>do carpenter ants eat wood</td>\n",
       "      <td>https://doyourownpestcontrol.com/carp.htm</td>\n",
       "      <td>Factual</td>\n",
       "      <td>information_intent</td>\n",
       "    </tr>\n",
       "    <tr>\n",
       "      <th>4</th>\n",
       "      <td>rheumatoid arthritis in children</td>\n",
       "      <td>https://www.webmd.com/rheumatoid-arthritis/und...</td>\n",
       "      <td>Abstain</td>\n",
       "      <td>information_intent</td>\n",
       "    </tr>\n",
       "  </tbody>\n",
       "</table>\n",
       "</div>"
      ],
      "text/plain": [
       "                              query  \\\n",
       "0                        best reads   \n",
       "1                          tamerind   \n",
       "2                        show mi ip   \n",
       "3        do carpenter ants eat wood   \n",
       "4  rheumatoid arthritis in children   \n",
       "\n",
       "                                                 url  label_manual  \\\n",
       "0                       http://thegreatestbooks.org/       Abstain   \n",
       "1             https://en.wikipedia.org/wiki/Tamarind       Factual   \n",
       "2                                 http://showip.net/  Instrumental   \n",
       "3          https://doyourownpestcontrol.com/carp.htm       Factual   \n",
       "4  https://www.webmd.com/rheumatoid-arthritis/und...       Abstain   \n",
       "\n",
       "               target  \n",
       "0  information_intent  \n",
       "1  information_intent  \n",
       "2   navigation_intent  \n",
       "3  information_intent  \n",
       "4  information_intent  "
      ]
     },
     "execution_count": 24,
     "metadata": {},
     "output_type": "execute_result"
    }
   ],
   "source": [
    "orcas_data.head()"
   ]
  },
  {
   "cell_type": "code",
   "execution_count": 25,
   "id": "d4e2f712-b0a7-4b98-a314-eba7b0eaaf72",
   "metadata": {},
   "outputs": [
    {
     "data": {
      "text/plain": [
       "target\n",
       "information_intent    591\n",
       "navigation_intent     265\n",
       "unknown                78\n",
       "purchase_intent        27\n",
       "yelp_intent            15\n",
       "weather_intent         14\n",
       "travel_intent           9\n",
       "translation_intent      1\n",
       "Name: count, dtype: int64"
      ]
     },
     "execution_count": 25,
     "metadata": {},
     "output_type": "execute_result"
    }
   ],
   "source": [
    "orcas_data['target'].value_counts()"
   ]
  },
  {
   "cell_type": "code",
   "execution_count": 26,
   "id": "91e30e51-b14a-4c31-8ecc-985a951a700a",
   "metadata": {},
   "outputs": [
    {
     "name": "stderr",
     "output_type": "stream",
     "text": [
      "  0%|                                                                                                                                                                                                                                                                        | 0/1000 [00:00<?, ?it/s]/Users/cgopal/work/smart_intent/src/infer_intent.py:52: RuntimeWarning: overflow encountered in exp\n",
      "  probabilities = np.exp(logits) / np.sum(np.exp(logits), axis=1, keepdims=True)\n",
      "/Users/cgopal/work/smart_intent/src/infer_intent.py:52: RuntimeWarning: invalid value encountered in divide\n",
      "  probabilities = np.exp(logits) / np.sum(np.exp(logits), axis=1, keepdims=True)\n",
      "100%|█████████████████████████████████████████████████████████████████████████████████████████████████████████████████████████████████████████████████████████████████████████████████████████████████████████████████████████████████████████████████████████████| 1000/1000 [00:15<00:00, 65.68it/s]"
     ]
    },
    {
     "name": "stdout",
     "output_type": "stream",
     "text": [
      "intent hit rate (accuracy) = 0.521\n"
     ]
    },
    {
     "name": "stderr",
     "output_type": "stream",
     "text": [
      "\n"
     ]
    }
   ],
   "source": [
    "# orcas_data['query'].values\n",
    "\n",
    "intent_hit_count = 0\n",
    "intent_queries_misclassified = []\n",
    "intent_queries_classified = []\n",
    "for query, target in tqdm(orcas_data[['query', 'target']].values.tolist()):\n",
    "    pred_result, _ = cls.find_intent(query)\n",
    "    intent_queries_classified.append({'query': query, 'pred_result': pred_result, 'target': target})\n",
    "    if pred_result == target:\n",
    "        intent_hit_count += 1\n",
    "    else:\n",
    "        intent_queries_misclassified.append({'query': query, 'pred_result': pred_result, 'target': target})\n",
    "print(f\"intent hit rate (accuracy) = {intent_hit_count/len(orcas_data)}\")"
   ]
  },
  {
   "cell_type": "code",
   "execution_count": 27,
   "id": "31821c8b-a87b-4102-baae-07fb29ad725a",
   "metadata": {},
   "outputs": [],
   "source": [
    "# intent hit rate (accuracy) = 0.521"
   ]
  },
  {
   "cell_type": "code",
   "execution_count": 28,
   "id": "af55a1a0-d705-4612-b42b-ce7133760e91",
   "metadata": {},
   "outputs": [],
   "source": [
    "intent_queries_classified_df = pd.DataFrame(intent_queries_classified)\n",
    "intent_queries_misclassified_df = pd.DataFrame(intent_queries_misclassified)\n",
    "# intent_queries_misclassified_df"
   ]
  },
  {
   "cell_type": "code",
   "execution_count": 29,
   "id": "687a7ce6-6ff5-4a1c-a1ad-3116e27fb5b8",
   "metadata": {},
   "outputs": [
    {
     "data": {
      "text/plain": [
       "target\n",
       "information_intent    205\n",
       "navigation_intent     160\n",
       "unknown                78\n",
       "purchase_intent        25\n",
       "travel_intent           9\n",
       "yelp_intent             2\n",
       "Name: count, dtype: int64"
      ]
     },
     "execution_count": 29,
     "metadata": {},
     "output_type": "execute_result"
    }
   ],
   "source": [
    "intent_queries_misclassified_df['target'].value_counts()"
   ]
  },
  {
   "cell_type": "code",
   "execution_count": 30,
   "id": "12e7a3b6-0156-4843-9538-fba3850272d9",
   "metadata": {},
   "outputs": [
    {
     "data": {
      "text/html": [
       "<div>\n",
       "<style scoped>\n",
       "    .dataframe tbody tr th:only-of-type {\n",
       "        vertical-align: middle;\n",
       "    }\n",
       "\n",
       "    .dataframe tbody tr th {\n",
       "        vertical-align: top;\n",
       "    }\n",
       "\n",
       "    .dataframe thead th {\n",
       "        text-align: right;\n",
       "    }\n",
       "</style>\n",
       "<table border=\"1\" class=\"dataframe\">\n",
       "  <thead>\n",
       "    <tr style=\"text-align: right;\">\n",
       "      <th>pred_result</th>\n",
       "      <th>information_intent</th>\n",
       "      <th>navigation_intent</th>\n",
       "      <th>purchase_intent</th>\n",
       "      <th>translation_intent</th>\n",
       "      <th>weather_intent</th>\n",
       "      <th>yelp_intent</th>\n",
       "    </tr>\n",
       "    <tr>\n",
       "      <th>target</th>\n",
       "      <th></th>\n",
       "      <th></th>\n",
       "      <th></th>\n",
       "      <th></th>\n",
       "      <th></th>\n",
       "      <th></th>\n",
       "    </tr>\n",
       "  </thead>\n",
       "  <tbody>\n",
       "    <tr>\n",
       "      <th>information_intent</th>\n",
       "      <td>386</td>\n",
       "      <td>28</td>\n",
       "      <td>5</td>\n",
       "      <td>1</td>\n",
       "      <td>8</td>\n",
       "      <td>163</td>\n",
       "    </tr>\n",
       "    <tr>\n",
       "      <th>navigation_intent</th>\n",
       "      <td>66</td>\n",
       "      <td>105</td>\n",
       "      <td>0</td>\n",
       "      <td>0</td>\n",
       "      <td>2</td>\n",
       "      <td>92</td>\n",
       "    </tr>\n",
       "    <tr>\n",
       "      <th>purchase_intent</th>\n",
       "      <td>8</td>\n",
       "      <td>2</td>\n",
       "      <td>2</td>\n",
       "      <td>0</td>\n",
       "      <td>0</td>\n",
       "      <td>15</td>\n",
       "    </tr>\n",
       "    <tr>\n",
       "      <th>translation_intent</th>\n",
       "      <td>0</td>\n",
       "      <td>0</td>\n",
       "      <td>0</td>\n",
       "      <td>1</td>\n",
       "      <td>0</td>\n",
       "      <td>0</td>\n",
       "    </tr>\n",
       "    <tr>\n",
       "      <th>travel_intent</th>\n",
       "      <td>3</td>\n",
       "      <td>1</td>\n",
       "      <td>0</td>\n",
       "      <td>0</td>\n",
       "      <td>1</td>\n",
       "      <td>4</td>\n",
       "    </tr>\n",
       "    <tr>\n",
       "      <th>unknown</th>\n",
       "      <td>49</td>\n",
       "      <td>10</td>\n",
       "      <td>0</td>\n",
       "      <td>0</td>\n",
       "      <td>0</td>\n",
       "      <td>19</td>\n",
       "    </tr>\n",
       "    <tr>\n",
       "      <th>weather_intent</th>\n",
       "      <td>0</td>\n",
       "      <td>0</td>\n",
       "      <td>0</td>\n",
       "      <td>0</td>\n",
       "      <td>14</td>\n",
       "      <td>0</td>\n",
       "    </tr>\n",
       "    <tr>\n",
       "      <th>yelp_intent</th>\n",
       "      <td>2</td>\n",
       "      <td>0</td>\n",
       "      <td>0</td>\n",
       "      <td>0</td>\n",
       "      <td>0</td>\n",
       "      <td>13</td>\n",
       "    </tr>\n",
       "  </tbody>\n",
       "</table>\n",
       "</div>"
      ],
      "text/plain": [
       "pred_result         information_intent  navigation_intent  purchase_intent  \\\n",
       "target                                                                       \n",
       "information_intent                 386                 28                5   \n",
       "navigation_intent                   66                105                0   \n",
       "purchase_intent                      8                  2                2   \n",
       "translation_intent                   0                  0                0   \n",
       "travel_intent                        3                  1                0   \n",
       "unknown                             49                 10                0   \n",
       "weather_intent                       0                  0                0   \n",
       "yelp_intent                          2                  0                0   \n",
       "\n",
       "pred_result         translation_intent  weather_intent  yelp_intent  \n",
       "target                                                               \n",
       "information_intent                   1               8          163  \n",
       "navigation_intent                    0               2           92  \n",
       "purchase_intent                      0               0           15  \n",
       "translation_intent                   1               0            0  \n",
       "travel_intent                        0               1            4  \n",
       "unknown                              0               0           19  \n",
       "weather_intent                       0              14            0  \n",
       "yelp_intent                          0               0           13  "
      ]
     },
     "execution_count": 30,
     "metadata": {},
     "output_type": "execute_result"
    }
   ],
   "source": [
    "pd.crosstab(intent_queries_classified_df['target'], intent_queries_classified_df['pred_result'])"
   ]
  },
  {
   "cell_type": "code",
   "execution_count": 31,
   "id": "6fc89f45-5f49-42fb-aa01-135c3996dd4a",
   "metadata": {},
   "outputs": [
    {
     "data": {
      "text/html": [
       "<div>\n",
       "<style scoped>\n",
       "    .dataframe tbody tr th:only-of-type {\n",
       "        vertical-align: middle;\n",
       "    }\n",
       "\n",
       "    .dataframe tbody tr th {\n",
       "        vertical-align: top;\n",
       "    }\n",
       "\n",
       "    .dataframe thead th {\n",
       "        text-align: right;\n",
       "    }\n",
       "</style>\n",
       "<table border=\"1\" class=\"dataframe\">\n",
       "  <thead>\n",
       "    <tr style=\"text-align: right;\">\n",
       "      <th></th>\n",
       "      <th>query</th>\n",
       "      <th>pred_result</th>\n",
       "      <th>target</th>\n",
       "    </tr>\n",
       "  </thead>\n",
       "  <tbody>\n",
       "    <tr>\n",
       "      <th>283</th>\n",
       "      <td>gordo's</td>\n",
       "      <td>information_intent</td>\n",
       "      <td>yelp_intent</td>\n",
       "    </tr>\n",
       "    <tr>\n",
       "      <th>391</th>\n",
       "      <td>orthopedic spine specialist</td>\n",
       "      <td>information_intent</td>\n",
       "      <td>yelp_intent</td>\n",
       "    </tr>\n",
       "  </tbody>\n",
       "</table>\n",
       "</div>"
      ],
      "text/plain": [
       "                           query         pred_result       target\n",
       "283                      gordo's  information_intent  yelp_intent\n",
       "391  orthopedic spine specialist  information_intent  yelp_intent"
      ]
     },
     "execution_count": 31,
     "metadata": {},
     "output_type": "execute_result"
    }
   ],
   "source": [
    "intent_queries_misclassified_df.loc[intent_queries_misclassified_df['target'] == 'yelp_intent']"
   ]
  },
  {
   "cell_type": "code",
   "execution_count": 32,
   "id": "c610465c-f436-4354-a598-2a9e61f5cfef",
   "metadata": {},
   "outputs": [
    {
     "name": "stderr",
     "output_type": "stream",
     "text": [
      "huggingface/tokenizers: The current process just got forked, after parallelism has already been used. Disabling parallelism to avoid deadlocks...\n",
      "To disable this warning, you can either:\n",
      "\t- Avoid using `tokenizers` before the fork if possible\n",
      "\t- Explicitly set the environment variable TOKENIZERS_PARALLELISM=(true | false)\n"
     ]
    }
   ],
   "source": [
    "from sklearn.metrics import classification_report"
   ]
  },
  {
   "cell_type": "code",
   "execution_count": 33,
   "id": "c5c99699-c338-4d1e-8e31-5ba2f52c72b1",
   "metadata": {},
   "outputs": [
    {
     "name": "stdout",
     "output_type": "stream",
     "text": [
      "                    precision    recall  f1-score   support\n",
      "\n",
      "information_intent       0.75      0.65      0.70       591\n",
      " navigation_intent       0.72      0.40      0.51       265\n",
      "   purchase_intent       0.29      0.07      0.12        27\n",
      "translation_intent       0.50      1.00      0.67         1\n",
      "     travel_intent       0.00      0.00      0.00         9\n",
      "           unknown       0.00      0.00      0.00        78\n",
      "    weather_intent       0.56      1.00      0.72        14\n",
      "       yelp_intent       0.04      0.87      0.08        15\n",
      "\n",
      "          accuracy                           0.52      1000\n",
      "         macro avg       0.36      0.50      0.35      1000\n",
      "      weighted avg       0.65      0.52      0.56      1000\n",
      "\n"
     ]
    },
    {
     "name": "stderr",
     "output_type": "stream",
     "text": [
      "/Users/cgopal/work/smart_intent/venv/lib/python3.11/site-packages/sklearn/metrics/_classification.py:1531: UndefinedMetricWarning: Precision is ill-defined and being set to 0.0 in labels with no predicted samples. Use `zero_division` parameter to control this behavior.\n",
      "  _warn_prf(average, modifier, f\"{metric.capitalize()} is\", len(result))\n",
      "/Users/cgopal/work/smart_intent/venv/lib/python3.11/site-packages/sklearn/metrics/_classification.py:1531: UndefinedMetricWarning: Precision is ill-defined and being set to 0.0 in labels with no predicted samples. Use `zero_division` parameter to control this behavior.\n",
      "  _warn_prf(average, modifier, f\"{metric.capitalize()} is\", len(result))\n",
      "/Users/cgopal/work/smart_intent/venv/lib/python3.11/site-packages/sklearn/metrics/_classification.py:1531: UndefinedMetricWarning: Precision is ill-defined and being set to 0.0 in labels with no predicted samples. Use `zero_division` parameter to control this behavior.\n",
      "  _warn_prf(average, modifier, f\"{metric.capitalize()} is\", len(result))\n"
     ]
    }
   ],
   "source": [
    "print(classification_report(intent_queries_classified_df['target'],\n",
    "                            intent_queries_classified_df['pred_result']))"
   ]
  },
  {
   "cell_type": "code",
   "execution_count": 34,
   "id": "60a3ee53-c3ba-494c-bd64-be72c7f26a4e",
   "metadata": {},
   "outputs": [],
   "source": [
    "# intent_queries_misclassified_df.loc[intent_queries_misclassified_df['pred_result'] == 'yelp_intent']['target'].value_counts()"
   ]
  }
 ],
 "metadata": {
  "kernelspec": {
   "display_name": "Python 3 (ipykernel)",
   "language": "python",
   "name": "python3"
  },
  "language_info": {
   "codemirror_mode": {
    "name": "ipython",
    "version": 3
   },
   "file_extension": ".py",
   "mimetype": "text/x-python",
   "name": "python",
   "nbconvert_exporter": "python",
   "pygments_lexer": "ipython3",
   "version": "3.11.0"
  }
 },
 "nbformat": 4,
 "nbformat_minor": 5
}
